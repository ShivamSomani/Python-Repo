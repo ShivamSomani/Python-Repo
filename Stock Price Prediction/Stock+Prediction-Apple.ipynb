{
 "cells": [
  {
   "cell_type": "code",
   "execution_count": 1,
   "metadata": {
    "collapsed": true
   },
   "outputs": [],
   "source": [
    "import pandas as pd\n",
    "import numpy as np\n",
    "import matplotlib.pyplot as plt"
   ]
  },
  {
   "cell_type": "code",
   "execution_count": 2,
   "metadata": {
    "collapsed": false
   },
   "outputs": [
    {
     "data": {
      "text/plain": [
       "(251, 6)"
      ]
     },
     "execution_count": 2,
     "metadata": {},
     "output_type": "execute_result"
    }
   ],
   "source": [
    "apple = pd.read_csv('/root/Desktop/aapl.csv',  encoding='utf-8-sig')\n",
    "apple.shape"
   ]
  },
  {
   "cell_type": "code",
   "execution_count": 3,
   "metadata": {
    "collapsed": false
   },
   "outputs": [
    {
     "data": {
      "text/html": [
       "<div>\n",
       "<table border=\"1\" class=\"dataframe\">\n",
       "  <thead>\n",
       "    <tr style=\"text-align: right;\">\n",
       "      <th></th>\n",
       "      <th>Date</th>\n",
       "      <th>Open</th>\n",
       "      <th>High</th>\n",
       "      <th>Low</th>\n",
       "      <th>Close</th>\n",
       "      <th>Volume</th>\n",
       "    </tr>\n",
       "  </thead>\n",
       "  <tbody>\n",
       "    <tr>\n",
       "      <th>0</th>\n",
       "      <td>30-Nov-16</td>\n",
       "      <td>111.60</td>\n",
       "      <td>112.20</td>\n",
       "      <td>110.27</td>\n",
       "      <td>110.52</td>\n",
       "      <td>35764974</td>\n",
       "    </tr>\n",
       "    <tr>\n",
       "      <th>1</th>\n",
       "      <td>29-Nov-16</td>\n",
       "      <td>110.78</td>\n",
       "      <td>112.03</td>\n",
       "      <td>110.07</td>\n",
       "      <td>111.46</td>\n",
       "      <td>28528750</td>\n",
       "    </tr>\n",
       "    <tr>\n",
       "      <th>2</th>\n",
       "      <td>28-Nov-16</td>\n",
       "      <td>111.43</td>\n",
       "      <td>112.46</td>\n",
       "      <td>111.39</td>\n",
       "      <td>111.57</td>\n",
       "      <td>27193983</td>\n",
       "    </tr>\n",
       "    <tr>\n",
       "      <th>3</th>\n",
       "      <td>25-Nov-16</td>\n",
       "      <td>111.47</td>\n",
       "      <td>111.87</td>\n",
       "      <td>110.95</td>\n",
       "      <td>111.79</td>\n",
       "      <td>11475922</td>\n",
       "    </tr>\n",
       "    <tr>\n",
       "      <th>4</th>\n",
       "      <td>23-Nov-16</td>\n",
       "      <td>111.36</td>\n",
       "      <td>111.51</td>\n",
       "      <td>110.33</td>\n",
       "      <td>111.23</td>\n",
       "      <td>27426394</td>\n",
       "    </tr>\n",
       "  </tbody>\n",
       "</table>\n",
       "</div>"
      ],
      "text/plain": [
       "        Date    Open    High     Low   Close    Volume\n",
       "0  30-Nov-16  111.60  112.20  110.27  110.52  35764974\n",
       "1  29-Nov-16  110.78  112.03  110.07  111.46  28528750\n",
       "2  28-Nov-16  111.43  112.46  111.39  111.57  27193983\n",
       "3  25-Nov-16  111.47  111.87  110.95  111.79  11475922\n",
       "4  23-Nov-16  111.36  111.51  110.33  111.23  27426394"
      ]
     },
     "execution_count": 3,
     "metadata": {},
     "output_type": "execute_result"
    }
   ],
   "source": [
    "apple.head()"
   ]
  },
  {
   "cell_type": "code",
   "execution_count": 4,
   "metadata": {
    "collapsed": true
   },
   "outputs": [],
   "source": [
    "import datetime as dt"
   ]
  },
  {
   "cell_type": "code",
   "execution_count": 5,
   "metadata": {
    "collapsed": true
   },
   "outputs": [],
   "source": [
    "dates = apple['Date']\n",
    "close = apple['Close']"
   ]
  },
  {
   "cell_type": "code",
   "execution_count": 6,
   "metadata": {
    "collapsed": true
   },
   "outputs": [],
   "source": [
    "spread = ((apple['High']-apple['Low'])/apple['Low'])*100\n",
    "per_change = ((apple['Close']-apple['Open'])/apple['Open'])*100"
   ]
  },
  {
   "cell_type": "code",
   "execution_count": 7,
   "metadata": {
    "collapsed": false
   },
   "outputs": [
    {
     "data": {
      "text/html": [
       "<div>\n",
       "<table border=\"1\" class=\"dataframe\">\n",
       "  <thead>\n",
       "    <tr style=\"text-align: right;\">\n",
       "      <th></th>\n",
       "      <th>Date</th>\n",
       "      <th>Open</th>\n",
       "      <th>High</th>\n",
       "      <th>Low</th>\n",
       "      <th>Close</th>\n",
       "      <th>Volume</th>\n",
       "      <th>Spread</th>\n",
       "      <th>Per_Change</th>\n",
       "    </tr>\n",
       "  </thead>\n",
       "  <tbody>\n",
       "    <tr>\n",
       "      <th>0</th>\n",
       "      <td>30-Nov-16</td>\n",
       "      <td>111.60</td>\n",
       "      <td>112.20</td>\n",
       "      <td>110.27</td>\n",
       "      <td>110.52</td>\n",
       "      <td>35764974</td>\n",
       "      <td>1.750249</td>\n",
       "      <td>-0.967742</td>\n",
       "    </tr>\n",
       "    <tr>\n",
       "      <th>1</th>\n",
       "      <td>29-Nov-16</td>\n",
       "      <td>110.78</td>\n",
       "      <td>112.03</td>\n",
       "      <td>110.07</td>\n",
       "      <td>111.46</td>\n",
       "      <td>28528750</td>\n",
       "      <td>1.780685</td>\n",
       "      <td>0.613829</td>\n",
       "    </tr>\n",
       "    <tr>\n",
       "      <th>2</th>\n",
       "      <td>28-Nov-16</td>\n",
       "      <td>111.43</td>\n",
       "      <td>112.46</td>\n",
       "      <td>111.39</td>\n",
       "      <td>111.57</td>\n",
       "      <td>27193983</td>\n",
       "      <td>0.960589</td>\n",
       "      <td>0.125639</td>\n",
       "    </tr>\n",
       "    <tr>\n",
       "      <th>3</th>\n",
       "      <td>25-Nov-16</td>\n",
       "      <td>111.47</td>\n",
       "      <td>111.87</td>\n",
       "      <td>110.95</td>\n",
       "      <td>111.79</td>\n",
       "      <td>11475922</td>\n",
       "      <td>0.829202</td>\n",
       "      <td>0.287073</td>\n",
       "    </tr>\n",
       "    <tr>\n",
       "      <th>4</th>\n",
       "      <td>23-Nov-16</td>\n",
       "      <td>111.36</td>\n",
       "      <td>111.51</td>\n",
       "      <td>110.33</td>\n",
       "      <td>111.23</td>\n",
       "      <td>27426394</td>\n",
       "      <td>1.069519</td>\n",
       "      <td>-0.116739</td>\n",
       "    </tr>\n",
       "  </tbody>\n",
       "</table>\n",
       "</div>"
      ],
      "text/plain": [
       "        Date    Open    High     Low   Close    Volume    Spread  Per_Change\n",
       "0  30-Nov-16  111.60  112.20  110.27  110.52  35764974  1.750249   -0.967742\n",
       "1  29-Nov-16  110.78  112.03  110.07  111.46  28528750  1.780685    0.613829\n",
       "2  28-Nov-16  111.43  112.46  111.39  111.57  27193983  0.960589    0.125639\n",
       "3  25-Nov-16  111.47  111.87  110.95  111.79  11475922  0.829202    0.287073\n",
       "4  23-Nov-16  111.36  111.51  110.33  111.23  27426394  1.069519   -0.116739"
      ]
     },
     "execution_count": 7,
     "metadata": {},
     "output_type": "execute_result"
    }
   ],
   "source": [
    "apple['Spread'] = spread\n",
    "apple['Per_Change'] = per_change\n",
    "apple.head()"
   ]
  },
  {
   "cell_type": "code",
   "execution_count": 9,
   "metadata": {
    "collapsed": true
   },
   "outputs": [],
   "source": [
    "df = apple[['Close','Volume','Spread','Per_Change']]"
   ]
  },
  {
   "cell_type": "code",
   "execution_count": 10,
   "metadata": {
    "collapsed": false
   },
   "outputs": [
    {
     "name": "stderr",
     "output_type": "stream",
     "text": [
      "/root/anaconda2/lib/python2.7/site-packages/pandas/core/frame.py:2762: SettingWithCopyWarning: \n",
      "A value is trying to be set on a copy of a slice from a DataFrame\n",
      "\n",
      "See the caveats in the documentation: http://pandas.pydata.org/pandas-docs/stable/indexing.html#indexing-view-versus-copy\n",
      "  downcast=downcast, **kwargs)\n"
     ]
    },
    {
     "data": {
      "text/plain": [
       "7"
      ]
     },
     "execution_count": 10,
     "metadata": {},
     "output_type": "execute_result"
    }
   ],
   "source": [
    "import math\n",
    "closecol = 'Close'\n",
    "df.fillna(value=-99999, inplace=True)\n",
    "sevendays = int(math.ceil(0.025 * len(df)))\n",
    "sevendays"
   ]
  },
  {
   "cell_type": "code",
   "execution_count": 11,
   "metadata": {
    "collapsed": false
   },
   "outputs": [
    {
     "name": "stderr",
     "output_type": "stream",
     "text": [
      "/root/anaconda2/lib/python2.7/site-packages/ipykernel/__main__.py:1: SettingWithCopyWarning: \n",
      "A value is trying to be set on a copy of a slice from a DataFrame.\n",
      "Try using .loc[row_indexer,col_indexer] = value instead\n",
      "\n",
      "See the caveats in the documentation: http://pandas.pydata.org/pandas-docs/stable/indexing.html#indexing-view-versus-copy\n",
      "  if __name__ == '__main__':\n"
     ]
    }
   ],
   "source": [
    "df['label'] = df[closecol].shift(-sevendays)"
   ]
  },
  {
   "cell_type": "code",
   "execution_count": 12,
   "metadata": {
    "collapsed": false
   },
   "outputs": [
    {
     "data": {
      "text/html": [
       "<div>\n",
       "<table border=\"1\" class=\"dataframe\">\n",
       "  <thead>\n",
       "    <tr style=\"text-align: right;\">\n",
       "      <th></th>\n",
       "      <th>Close</th>\n",
       "      <th>Volume</th>\n",
       "      <th>Spread</th>\n",
       "      <th>Per_Change</th>\n",
       "      <th>label</th>\n",
       "    </tr>\n",
       "  </thead>\n",
       "  <tbody>\n",
       "    <tr>\n",
       "      <th>246</th>\n",
       "      <td>115.62</td>\n",
       "      <td>46361357</td>\n",
       "      <td>2.267987</td>\n",
       "      <td>0.277537</td>\n",
       "      <td>NaN</td>\n",
       "    </tr>\n",
       "    <tr>\n",
       "      <th>247</th>\n",
       "      <td>118.23</td>\n",
       "      <td>34309450</td>\n",
       "      <td>1.488961</td>\n",
       "      <td>0.604152</td>\n",
       "      <td>NaN</td>\n",
       "    </tr>\n",
       "    <tr>\n",
       "      <th>248</th>\n",
       "      <td>118.28</td>\n",
       "      <td>32084249</td>\n",
       "      <td>1.740090</td>\n",
       "      <td>-0.033807</td>\n",
       "      <td>NaN</td>\n",
       "    </tr>\n",
       "    <tr>\n",
       "      <th>249</th>\n",
       "      <td>119.03</td>\n",
       "      <td>57776977</td>\n",
       "      <td>3.596560</td>\n",
       "      <td>3.243993</td>\n",
       "      <td>NaN</td>\n",
       "    </tr>\n",
       "    <tr>\n",
       "      <th>250</th>\n",
       "      <td>115.20</td>\n",
       "      <td>41569509</td>\n",
       "      <td>2.250044</td>\n",
       "      <td>-0.034710</td>\n",
       "      <td>NaN</td>\n",
       "    </tr>\n",
       "  </tbody>\n",
       "</table>\n",
       "</div>"
      ],
      "text/plain": [
       "      Close    Volume    Spread  Per_Change  label\n",
       "246  115.62  46361357  2.267987    0.277537    NaN\n",
       "247  118.23  34309450  1.488961    0.604152    NaN\n",
       "248  118.28  32084249  1.740090   -0.033807    NaN\n",
       "249  119.03  57776977  3.596560    3.243993    NaN\n",
       "250  115.20  41569509  2.250044   -0.034710    NaN"
      ]
     },
     "execution_count": 12,
     "metadata": {},
     "output_type": "execute_result"
    }
   ],
   "source": [
    "df.tail()"
   ]
  },
  {
   "cell_type": "code",
   "execution_count": 13,
   "metadata": {
    "collapsed": false
   },
   "outputs": [
    {
     "name": "stderr",
     "output_type": "stream",
     "text": [
      "/root/anaconda2/lib/python2.7/site-packages/ipykernel/__main__.py:1: SettingWithCopyWarning: \n",
      "A value is trying to be set on a copy of a slice from a DataFrame\n",
      "\n",
      "See the caveats in the documentation: http://pandas.pydata.org/pandas-docs/stable/indexing.html#indexing-view-versus-copy\n",
      "  if __name__ == '__main__':\n"
     ]
    }
   ],
   "source": [
    "df.dropna(inplace=True)"
   ]
  },
  {
   "cell_type": "code",
   "execution_count": 14,
   "metadata": {
    "collapsed": false
   },
   "outputs": [
    {
     "data": {
      "text/html": [
       "<div>\n",
       "<table border=\"1\" class=\"dataframe\">\n",
       "  <thead>\n",
       "    <tr style=\"text-align: right;\">\n",
       "      <th></th>\n",
       "      <th>Close</th>\n",
       "      <th>Volume</th>\n",
       "      <th>Spread</th>\n",
       "      <th>Per_Change</th>\n",
       "      <th>label</th>\n",
       "    </tr>\n",
       "  </thead>\n",
       "  <tbody>\n",
       "    <tr>\n",
       "      <th>239</th>\n",
       "      <td>106.03</td>\n",
       "      <td>96453327</td>\n",
       "      <td>3.506285</td>\n",
       "      <td>-2.644385</td>\n",
       "      <td>115.62</td>\n",
       "    </tr>\n",
       "    <tr>\n",
       "      <th>240</th>\n",
       "      <td>108.98</td>\n",
       "      <td>44772827</td>\n",
       "      <td>3.000551</td>\n",
       "      <td>-2.713801</td>\n",
       "      <td>118.23</td>\n",
       "    </tr>\n",
       "    <tr>\n",
       "      <th>241</th>\n",
       "      <td>111.34</td>\n",
       "      <td>56238467</td>\n",
       "      <td>2.931985</td>\n",
       "      <td>0.243090</td>\n",
       "      <td>118.28</td>\n",
       "    </tr>\n",
       "    <tr>\n",
       "      <th>242</th>\n",
       "      <td>110.49</td>\n",
       "      <td>53323105</td>\n",
       "      <td>2.220208</td>\n",
       "      <td>-1.295337</td>\n",
       "      <td>119.03</td>\n",
       "    </tr>\n",
       "    <tr>\n",
       "      <th>243</th>\n",
       "      <td>112.48</td>\n",
       "      <td>64318732</td>\n",
       "      <td>2.632298</td>\n",
       "      <td>0.267427</td>\n",
       "      <td>115.20</td>\n",
       "    </tr>\n",
       "  </tbody>\n",
       "</table>\n",
       "</div>"
      ],
      "text/plain": [
       "      Close    Volume    Spread  Per_Change   label\n",
       "239  106.03  96453327  3.506285   -2.644385  115.62\n",
       "240  108.98  44772827  3.000551   -2.713801  118.23\n",
       "241  111.34  56238467  2.931985    0.243090  118.28\n",
       "242  110.49  53323105  2.220208   -1.295337  119.03\n",
       "243  112.48  64318732  2.632298    0.267427  115.20"
      ]
     },
     "execution_count": 14,
     "metadata": {},
     "output_type": "execute_result"
    }
   ],
   "source": [
    "df.tail()"
   ]
  },
  {
   "cell_type": "code",
   "execution_count": 15,
   "metadata": {
    "collapsed": false
   },
   "outputs": [
    {
     "name": "stderr",
     "output_type": "stream",
     "text": [
      "/root/anaconda2/lib/python2.7/site-packages/sklearn/cross_validation.py:44: DeprecationWarning: This module was deprecated in version 0.18 in favor of the model_selection module into which all the refactored classes and functions are moved. Also note that the interface of the new CV iterators are different from that of this module. This module will be removed in 0.20.\n",
      "  \"This module will be removed in 0.20.\", DeprecationWarning)\n"
     ]
    }
   ],
   "source": [
    "X = np.array(df.drop(['label'], 1))\n",
    "y = np.array(df['label'])\n",
    "from sklearn.cross_validation import train_test_split"
   ]
  },
  {
   "cell_type": "code",
   "execution_count": 16,
   "metadata": {
    "collapsed": false
   },
   "outputs": [],
   "source": [
    "X_train , X_test, y_train, y_test = train_test_split(X,y,test_size=0.25)"
   ]
  },
  {
   "cell_type": "code",
   "execution_count": 17,
   "metadata": {
    "collapsed": false
   },
   "outputs": [
    {
     "data": {
      "text/plain": [
       "(183, 4)"
      ]
     },
     "execution_count": 17,
     "metadata": {},
     "output_type": "execute_result"
    }
   ],
   "source": [
    "X_train.shape"
   ]
  },
  {
   "cell_type": "code",
   "execution_count": 18,
   "metadata": {
    "collapsed": false
   },
   "outputs": [
    {
     "data": {
      "text/plain": [
       "(183,)"
      ]
     },
     "execution_count": 18,
     "metadata": {},
     "output_type": "execute_result"
    }
   ],
   "source": [
    "y_train.shape"
   ]
  },
  {
   "cell_type": "code",
   "execution_count": 19,
   "metadata": {
    "collapsed": true
   },
   "outputs": [],
   "source": [
    "from sklearn.linear_model import SGDRegressor\n",
    "from sklearn.linear_model import TheilSenRegressor\n",
    "from sklearn.linear_model import LinearRegression\n",
    "from sklearn.ensemble import RandomForestRegressor\n",
    "from sklearn.ensemble import ExtraTreesRegressor\n",
    "from sklearn.ensemble import GradientBoostingRegressor\n",
    "from xgboost import XGBRegressor\n",
    "from sklearn.svm import SVR\n",
    "from sklearn.linear_model import Ridge\n",
    "from sklearn.linear_model import Lasso\n",
    "from sklearn.linear_model import LassoLars\n",
    "from sklearn.linear_model import BayesianRidge\n",
    "from sklearn.linear_model import PassiveAggressiveRegressor\n",
    "from sklearn.linear_model import ARDRegression\n",
    "from sklearn.linear_model import RANSACRegressor\n",
    "from sklearn.linear_model import HuberRegressor\n",
    "from sklearn.neighbors import KNeighborsRegressor"
   ]
  },
  {
   "cell_type": "code",
   "execution_count": 26,
   "metadata": {
    "collapsed": true
   },
   "outputs": [],
   "source": [
    "scores = []\n",
    "for k in [KNeighborsRegressor(), RANSACRegressor(), HuberRegressor(), ARDRegression(),\n",
    "          PassiveAggressiveRegressor(), BayesianRidge(), Lasso(), LassoLars(), Ridge(), SVR(), XGBRegressor(),\n",
    "          RandomForestRegressor(), ExtraTreesRegressor(), GradientBoostingRegressor(), LinearRegression(),\n",
    "          TheilSenRegressor()]:\n",
    "    clf = k\n",
    "    k.fit(X_train,y_train)\n",
    "    scores.append(clf.score(X_test,y_test))"
   ]
  },
  {
   "cell_type": "code",
   "execution_count": 27,
   "metadata": {
    "collapsed": false
   },
   "outputs": [
    {
     "data": {
      "text/plain": [
       "[-0.07775498510236889,\n",
       " 0.65929120936440211,\n",
       " -47.99463595516815,\n",
       " 0.66868443877509232,\n",
       " -226.56109781962454,\n",
       " 0.67411915343687212,\n",
       " 0.64934423131572028,\n",
       " -0.0072551953585031637,\n",
       " 0.67592144394115072,\n",
       " -0.0069478093504953264,\n",
       " 0.64003770231805035,\n",
       " 0.58819702235483107,\n",
       " 0.59952286882008532,\n",
       " 0.62649045190728536,\n",
       " 0.67599133117089383,\n",
       " 0.6552489886516053]"
      ]
     },
     "execution_count": 27,
     "metadata": {},
     "output_type": "execute_result"
    }
   ],
   "source": [
    "scores"
   ]
  },
  {
   "cell_type": "code",
   "execution_count": 28,
   "metadata": {
    "collapsed": false
   },
   "outputs": [
    {
     "data": {
      "text/plain": [
       "0.67599133117089383"
      ]
     },
     "execution_count": 28,
     "metadata": {},
     "output_type": "execute_result"
    }
   ],
   "source": [
    "max(scores)"
   ]
  },
  {
   "cell_type": "code",
   "execution_count": 29,
   "metadata": {
    "collapsed": false
   },
   "outputs": [
    {
     "name": "stderr",
     "output_type": "stream",
     "text": [
      "/root/anaconda2/lib/python2.7/site-packages/sklearn/grid_search.py:43: DeprecationWarning: This module was deprecated in version 0.18 in favor of the model_selection module into which all the refactored classes and functions are moved. This module will be removed in 0.20.\n",
      "  DeprecationWarning)\n"
     ]
    }
   ],
   "source": [
    "from sklearn.grid_search import GridSearchCV"
   ]
  },
  {
   "cell_type": "code",
   "execution_count": 31,
   "metadata": {
    "collapsed": true
   },
   "outputs": [],
   "source": [
    "model = LinearRegression(normalize=True)"
   ]
  },
  {
   "cell_type": "code",
   "execution_count": 32,
   "metadata": {
    "collapsed": false
   },
   "outputs": [
    {
     "data": {
      "text/plain": [
       "0.67599133117075472"
      ]
     },
     "execution_count": 32,
     "metadata": {},
     "output_type": "execute_result"
    }
   ],
   "source": [
    "model.fit(X_train,y_train)\n",
    "model.score(X_test,y_test)"
   ]
  },
  {
   "cell_type": "code",
   "execution_count": 33,
   "metadata": {
    "collapsed": false
   },
   "outputs": [
    {
     "name": "stderr",
     "output_type": "stream",
     "text": [
      "/root/anaconda2/lib/python2.7/site-packages/ipykernel/__main__.py:2: SettingWithCopyWarning: \n",
      "A value is trying to be set on a copy of a slice from a DataFrame.\n",
      "Try using .loc[row_indexer,col_indexer] = value instead\n",
      "\n",
      "See the caveats in the documentation: http://pandas.pydata.org/pandas-docs/stable/indexing.html#indexing-view-versus-copy\n",
      "  from ipykernel import kernelapp as app\n",
      "/root/anaconda2/lib/python2.7/site-packages/pandas/core/series.py:2571: SettingWithCopyWarning: \n",
      "A value is trying to be set on a copy of a slice from a DataFrame\n",
      "\n",
      "See the caveats in the documentation: http://pandas.pydata.org/pandas-docs/stable/indexing.html#indexing-view-versus-copy\n",
      "  self._update_inplace(result)\n"
     ]
    }
   ],
   "source": [
    "df = apple[['Close','Volume','Spread','Per_Change']]\n",
    "df['label'] = df[closecol].shift(-sevendays)\n",
    "X = np.array(df.drop(['label'],1)) \n",
    "X_lately = X[-sevendays:] \n",
    "X = X[:-sevendays]\n",
    "y = df['label']\n",
    "y.dropna(inplace=True)"
   ]
  },
  {
   "cell_type": "code",
   "execution_count": 34,
   "metadata": {
    "collapsed": false
   },
   "outputs": [
    {
     "data": {
      "text/plain": [
       "(7, 4)"
      ]
     },
     "execution_count": 34,
     "metadata": {},
     "output_type": "execute_result"
    }
   ],
   "source": [
    "X_lately.shape"
   ]
  },
  {
   "cell_type": "code",
   "execution_count": 35,
   "metadata": {
    "collapsed": false
   },
   "outputs": [
    {
     "data": {
      "text/plain": [
       "(244, 4)"
      ]
     },
     "execution_count": 35,
     "metadata": {},
     "output_type": "execute_result"
    }
   ],
   "source": [
    "X.shape"
   ]
  },
  {
   "cell_type": "code",
   "execution_count": 36,
   "metadata": {
    "collapsed": false
   },
   "outputs": [
    {
     "data": {
      "text/plain": [
       "(244,)"
      ]
     },
     "execution_count": 36,
     "metadata": {},
     "output_type": "execute_result"
    }
   ],
   "source": [
    "y.shape"
   ]
  },
  {
   "cell_type": "code",
   "execution_count": 37,
   "metadata": {
    "collapsed": false
   },
   "outputs": [
    {
     "data": {
      "text/plain": [
       "LinearRegression(copy_X=True, fit_intercept=True, n_jobs=1, normalize=True)"
      ]
     },
     "execution_count": 37,
     "metadata": {},
     "output_type": "execute_result"
    }
   ],
   "source": [
    "model.fit(X,y)"
   ]
  },
  {
   "cell_type": "code",
   "execution_count": 38,
   "metadata": {
    "collapsed": true
   },
   "outputs": [],
   "source": [
    "y_pred = model.predict(X_lately)"
   ]
  },
  {
   "cell_type": "code",
   "execution_count": 39,
   "metadata": {
    "collapsed": true
   },
   "outputs": [],
   "source": [
    "%matplotlib inline"
   ]
  },
  {
   "cell_type": "code",
   "execution_count": 40,
   "metadata": {
    "collapsed": true
   },
   "outputs": [],
   "source": [
    "X_lately_dates = dates[-sevendays:]"
   ]
  },
  {
   "cell_type": "code",
   "execution_count": 41,
   "metadata": {
    "collapsed": false
   },
   "outputs": [
    {
     "data": {
      "text/plain": [
       "<matplotlib.text.Text at 0x7ff354055a10>"
      ]
     },
     "execution_count": 41,
     "metadata": {},
     "output_type": "execute_result"
    },
    {
     "data": {
      "image/png": "[encoded data removed]",
      "text/plain": [
       "<matplotlib.figure.Figure at 0x7ff3540491d0>"
      ]
     },
     "metadata": {},
     "output_type": "display_data"
    }
   ],
   "source": [
    "plt.plot_date(X_lately_dates,y_pred,'-')\n",
    "plt.xticks(rotation='vertical')\n",
    "plt.xlabel('Dates')\n",
    "plt.ylabel('Predicted Stock Prices For 7 days after the dates')"
   ]
  }
 ],
 "metadata": {
  "anaconda-cloud": {},
  "kernelspec": {
   "display_name": "Python [conda root]",
   "language": "python",
   "name": "conda-root-py"
  },
  "language_info": {
   "codemirror_mode": {
    "name": "ipython",
    "version": 2
   },
   "file_extension": ".py",
   "mimetype": "text/x-python",
   "name": "python",
   "nbconvert_exporter": "python",
   "pygments_lexer": "ipython2",
   "version": "2.7.12"
  }
 },
 "nbformat": 4,
 "nbformat_minor": 1
}
