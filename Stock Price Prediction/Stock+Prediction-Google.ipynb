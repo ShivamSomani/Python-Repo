{
 "cells": [
  {
   "cell_type": "code",
   "execution_count": 1,
   "metadata": {
    "collapsed": true
   },
   "outputs": [],
   "source": [
    "import pandas as pd\n",
    "import numpy as np\n",
    "import matplotlib.pyplot as plt"
   ]
  },
  {
   "cell_type": "code",
   "execution_count": 3,
   "metadata": {
    "collapsed": false
   },
   "outputs": [
    {
     "data": {
      "text/plain": [
       "(251, 6)"
      ]
     },
     "execution_count": 3,
     "metadata": {},
     "output_type": "execute_result"
    }
   ],
   "source": [
    "google = pd.read_csv('/root/Desktop/googl.csv',  encoding='utf-8-sig')\n",
    "google.shape"
   ]
  },
  {
   "cell_type": "code",
   "execution_count": 4,
   "metadata": {
    "collapsed": true
   },
   "outputs": [],
   "source": [
    "dates = google['Date']\n",
    "close = google['Close']"
   ]
  },
  {
   "cell_type": "code",
   "execution_count": 5,
   "metadata": {
    "collapsed": true
   },
   "outputs": [],
   "source": [
    "spread = ((google['High']-google['Low'])/google['Low'])*100\n",
    "per_change = ((google['Close']-google['Open'])/google['Open'])*100"
   ]
  },
  {
   "cell_type": "code",
   "execution_count": 6,
   "metadata": {
    "collapsed": false
   },
   "outputs": [
    {
     "data": {
      "text/html": [
       "<div>\n",
       "<table border=\"1\" class=\"dataframe\">\n",
       "  <thead>\n",
       "    <tr style=\"text-align: right;\">\n",
       "      <th></th>\n",
       "      <th>Date</th>\n",
       "      <th>Open</th>\n",
       "      <th>High</th>\n",
       "      <th>Low</th>\n",
       "      <th>Close</th>\n",
       "      <th>Volume</th>\n",
       "      <th>Spread</th>\n",
       "      <th>Per_Change</th>\n",
       "    </tr>\n",
       "  </thead>\n",
       "  <tbody>\n",
       "    <tr>\n",
       "      <th>0</th>\n",
       "      <td>30-Nov-16</td>\n",
       "      <td>789.10</td>\n",
       "      <td>791.51</td>\n",
       "      <td>773.14</td>\n",
       "      <td>775.88</td>\n",
       "      <td>2260081</td>\n",
       "      <td>2.376025</td>\n",
       "      <td>-1.675326</td>\n",
       "    </tr>\n",
       "    <tr>\n",
       "      <th>1</th>\n",
       "      <td>29-Nov-16</td>\n",
       "      <td>788.38</td>\n",
       "      <td>796.44</td>\n",
       "      <td>785.34</td>\n",
       "      <td>789.44</td>\n",
       "      <td>1561981</td>\n",
       "      <td>1.413401</td>\n",
       "      <td>0.134453</td>\n",
       "    </tr>\n",
       "    <tr>\n",
       "      <th>2</th>\n",
       "      <td>28-Nov-16</td>\n",
       "      <td>778.35</td>\n",
       "      <td>799.74</td>\n",
       "      <td>778.10</td>\n",
       "      <td>785.79</td>\n",
       "      <td>2575432</td>\n",
       "      <td>2.781134</td>\n",
       "      <td>0.955868</td>\n",
       "    </tr>\n",
       "    <tr>\n",
       "      <th>3</th>\n",
       "      <td>25-Nov-16</td>\n",
       "      <td>782.61</td>\n",
       "      <td>782.90</td>\n",
       "      <td>778.19</td>\n",
       "      <td>780.23</td>\n",
       "      <td>613549</td>\n",
       "      <td>0.605251</td>\n",
       "      <td>-0.304111</td>\n",
       "    </tr>\n",
       "    <tr>\n",
       "      <th>4</th>\n",
       "      <td>23-Nov-16</td>\n",
       "      <td>789.52</td>\n",
       "      <td>789.52</td>\n",
       "      <td>772.65</td>\n",
       "      <td>779.00</td>\n",
       "      <td>1312981</td>\n",
       "      <td>2.183395</td>\n",
       "      <td>-1.332455</td>\n",
       "    </tr>\n",
       "  </tbody>\n",
       "</table>\n",
       "</div>"
      ],
      "text/plain": [
       "        Date    Open    High     Low   Close   Volume    Spread  Per_Change\n",
       "0  30-Nov-16  789.10  791.51  773.14  775.88  2260081  2.376025   -1.675326\n",
       "1  29-Nov-16  788.38  796.44  785.34  789.44  1561981  1.413401    0.134453\n",
       "2  28-Nov-16  778.35  799.74  778.10  785.79  2575432  2.781134    0.955868\n",
       "3  25-Nov-16  782.61  782.90  778.19  780.23   613549  0.605251   -0.304111\n",
       "4  23-Nov-16  789.52  789.52  772.65  779.00  1312981  2.183395   -1.332455"
      ]
     },
     "execution_count": 6,
     "metadata": {},
     "output_type": "execute_result"
    }
   ],
   "source": [
    "google['Spread'] = spread\n",
    "google['Per_Change'] = per_change\n",
    "google.head()"
   ]
  },
  {
   "cell_type": "code",
   "execution_count": 8,
   "metadata": {
    "collapsed": false
   },
   "outputs": [],
   "source": [
    "df = google[['Close','Volume','Spread','Per_Change']]"
   ]
  },
  {
   "cell_type": "code",
   "execution_count": 9,
   "metadata": {
    "collapsed": false
   },
   "outputs": [
    {
     "name": "stderr",
     "output_type": "stream",
     "text": [
      "/root/anaconda2/lib/python2.7/site-packages/pandas/core/frame.py:2762: SettingWithCopyWarning: \n",
      "A value is trying to be set on a copy of a slice from a DataFrame\n",
      "\n",
      "See the caveats in the documentation: http://pandas.pydata.org/pandas-docs/stable/indexing.html#indexing-view-versus-copy\n",
      "  downcast=downcast, **kwargs)\n"
     ]
    }
   ],
   "source": [
    "import math\n",
    "closecol = 'Close'\n",
    "df.fillna(value=-99999, inplace=True)\n",
    "sevendays = 7"
   ]
  },
  {
   "cell_type": "code",
   "execution_count": 10,
   "metadata": {
    "collapsed": false
   },
   "outputs": [
    {
     "name": "stderr",
     "output_type": "stream",
     "text": [
      "/root/anaconda2/lib/python2.7/site-packages/ipykernel/__main__.py:1: SettingWithCopyWarning: \n",
      "A value is trying to be set on a copy of a slice from a DataFrame.\n",
      "Try using .loc[row_indexer,col_indexer] = value instead\n",
      "\n",
      "See the caveats in the documentation: http://pandas.pydata.org/pandas-docs/stable/indexing.html#indexing-view-versus-copy\n",
      "  if __name__ == '__main__':\n"
     ]
    }
   ],
   "source": [
    "df['label'] = df[closecol].shift(-sevendays)"
   ]
  },
  {
   "cell_type": "code",
   "execution_count": 12,
   "metadata": {
    "collapsed": false
   },
   "outputs": [
    {
     "name": "stderr",
     "output_type": "stream",
     "text": [
      "/root/anaconda2/lib/python2.7/site-packages/ipykernel/__main__.py:1: SettingWithCopyWarning: \n",
      "A value is trying to be set on a copy of a slice from a DataFrame\n",
      "\n",
      "See the caveats in the documentation: http://pandas.pydata.org/pandas-docs/stable/indexing.html#indexing-view-versus-copy\n",
      "  if __name__ == '__main__':\n"
     ]
    }
   ],
   "source": [
    "df.dropna(inplace=True)"
   ]
  },
  {
   "cell_type": "code",
   "execution_count": 13,
   "metadata": {
    "collapsed": false
   },
   "outputs": [
    {
     "name": "stderr",
     "output_type": "stream",
     "text": [
      "/root/anaconda2/lib/python2.7/site-packages/sklearn/cross_validation.py:44: DeprecationWarning: This module was deprecated in version 0.18 in favor of the model_selection module into which all the refactored classes and functions are moved. Also note that the interface of the new CV iterators are different from that of this module. This module will be removed in 0.20.\n",
      "  \"This module will be removed in 0.20.\", DeprecationWarning)\n"
     ]
    }
   ],
   "source": [
    "X = np.array(df.drop(['label'], 1))\n",
    "y = np.array(df['label'])\n",
    "from sklearn.cross_validation import train_test_split"
   ]
  },
  {
   "cell_type": "code",
   "execution_count": 14,
   "metadata": {
    "collapsed": true
   },
   "outputs": [],
   "source": [
    "X_train , X_test, y_train, y_test = train_test_split(X,y,test_size=0.25)"
   ]
  },
  {
   "cell_type": "code",
   "execution_count": 15,
   "metadata": {
    "collapsed": false
   },
   "outputs": [
    {
     "data": {
      "text/plain": [
       "(183, 4)"
      ]
     },
     "execution_count": 15,
     "metadata": {},
     "output_type": "execute_result"
    }
   ],
   "source": [
    "X_train.shape"
   ]
  },
  {
   "cell_type": "code",
   "execution_count": 16,
   "metadata": {
    "collapsed": false
   },
   "outputs": [
    {
     "data": {
      "text/plain": [
       "(183,)"
      ]
     },
     "execution_count": 16,
     "metadata": {},
     "output_type": "execute_result"
    }
   ],
   "source": [
    "y_train.shape"
   ]
  },
  {
   "cell_type": "code",
   "execution_count": 17,
   "metadata": {
    "collapsed": true
   },
   "outputs": [],
   "source": [
    "from sklearn.linear_model import SGDRegressor\n",
    "from sklearn.linear_model import TheilSenRegressor\n",
    "from sklearn.linear_model import LinearRegression\n",
    "from sklearn.ensemble import RandomForestRegressor\n",
    "from sklearn.ensemble import ExtraTreesRegressor\n",
    "from sklearn.ensemble import GradientBoostingRegressor\n",
    "from xgboost import XGBRegressor\n",
    "from sklearn.svm import SVR\n",
    "from sklearn.linear_model import Ridge\n",
    "from sklearn.linear_model import Lasso\n",
    "from sklearn.linear_model import LassoLars\n",
    "from sklearn.linear_model import BayesianRidge\n",
    "from sklearn.linear_model import PassiveAggressiveRegressor\n",
    "from sklearn.linear_model import ARDRegression\n",
    "from sklearn.linear_model import RANSACRegressor\n",
    "from sklearn.linear_model import HuberRegressor\n",
    "from sklearn.neighbors import KNeighborsRegressor"
   ]
  },
  {
   "cell_type": "code",
   "execution_count": 31,
   "metadata": {
    "collapsed": true
   },
   "outputs": [],
   "source": [
    "scores = []\n",
    "for k in [KNeighborsRegressor(), RANSACRegressor(), HuberRegressor(), ARDRegression(),\n",
    "          PassiveAggressiveRegressor(), BayesianRidge(), Lasso(), LassoLars(), Ridge(), SVR(), XGBRegressor(),\n",
    "          RandomForestRegressor(), ExtraTreesRegressor(), GradientBoostingRegressor(), LinearRegression(),\n",
    "          TheilSenRegressor()]:\n",
    "    clf = k\n",
    "    k.fit(X_train,y_train)\n",
    "    scores.append(clf.score(X_test,y_test))"
   ]
  },
  {
   "cell_type": "code",
   "execution_count": 32,
   "metadata": {
    "collapsed": false
   },
   "outputs": [
    {
     "data": {
      "text/plain": [
       "[-0.20090460598994553,\n",
       " 0.55444636605037811,\n",
       " 0.56165168602417015,\n",
       " 0.65631369893465197,\n",
       " -741.92942853674617,\n",
       " 0.57426840742647045,\n",
       " 0.58822472700359252,\n",
       " 0.45550825491143576,\n",
       " 0.59975531021716866,\n",
       " -0.0011083705946806077,\n",
       " 0.61934247740634785,\n",
       " 0.63097008189728521,\n",
       " 0.66287981708125709,\n",
       " 0.59685315015523577,\n",
       " 0.59990043891354672,\n",
       " 0.57167374521928993]"
      ]
     },
     "execution_count": 32,
     "metadata": {},
     "output_type": "execute_result"
    }
   ],
   "source": [
    "scores"
   ]
  },
  {
   "cell_type": "code",
   "execution_count": 28,
   "metadata": {
    "collapsed": false
   },
   "outputs": [
    {
     "data": {
      "text/plain": [
       "0.65631369893465197"
      ]
     },
     "execution_count": 28,
     "metadata": {},
     "output_type": "execute_result"
    }
   ],
   "source": [
    "max(scores)"
   ]
  },
  {
   "cell_type": "code",
   "execution_count": 33,
   "metadata": {
    "collapsed": false
   },
   "outputs": [
    {
     "name": "stderr",
     "output_type": "stream",
     "text": [
      "/root/anaconda2/lib/python2.7/site-packages/sklearn/grid_search.py:43: DeprecationWarning: This module was deprecated in version 0.18 in favor of the model_selection module into which all the refactored classes and functions are moved. This module will be removed in 0.20.\n",
      "  DeprecationWarning)\n"
     ]
    }
   ],
   "source": [
    "model1 = ARDRegression()\n",
    "model2 = ExtraTreesRegressor()\n",
    "from sklearn.grid_search import GridSearchCV"
   ]
  },
  {
   "cell_type": "code",
   "execution_count": 34,
   "metadata": {
    "collapsed": true
   },
   "outputs": [],
   "source": [
    "parameters = {'n_estimators':[10,100,1000],'min_impurity_split':[1e-7,1e-4,1e-1],'min_samples_split':[2,10,20]}\n",
    "clf = GridSearchCV(model2, parameters ,n_jobs=-1,cv=5)"
   ]
  },
  {
   "cell_type": "code",
   "execution_count": 35,
   "metadata": {
    "collapsed": false
   },
   "outputs": [
    {
     "data": {
      "text/plain": [
       "([mean: 0.64879, std: 0.08280, params: {'min_samples_split': 2, 'min_impurity_split': 1e-07, 'n_estimators': 10},\n",
       "  mean: 0.66225, std: 0.06297, params: {'min_samples_split': 2, 'min_impurity_split': 1e-07, 'n_estimators': 100},\n",
       "  mean: 0.66098, std: 0.07116, params: {'min_samples_split': 2, 'min_impurity_split': 1e-07, 'n_estimators': 1000},\n",
       "  mean: 0.66043, std: 0.08948, params: {'min_samples_split': 10, 'min_impurity_split': 1e-07, 'n_estimators': 10},\n",
       "  mean: 0.67956, std: 0.07737, params: {'min_samples_split': 10, 'min_impurity_split': 1e-07, 'n_estimators': 100},\n",
       "  mean: 0.67556, std: 0.07807, params: {'min_samples_split': 10, 'min_impurity_split': 1e-07, 'n_estimators': 1000},\n",
       "  mean: 0.66789, std: 0.07502, params: {'min_samples_split': 20, 'min_impurity_split': 1e-07, 'n_estimators': 10},\n",
       "  mean: 0.67880, std: 0.07417, params: {'min_samples_split': 20, 'min_impurity_split': 1e-07, 'n_estimators': 100},\n",
       "  mean: 0.67533, std: 0.07543, params: {'min_samples_split': 20, 'min_impurity_split': 1e-07, 'n_estimators': 1000},\n",
       "  mean: 0.63058, std: 0.10863, params: {'min_samples_split': 2, 'min_impurity_split': 0.0001, 'n_estimators': 10},\n",
       "  mean: 0.65729, std: 0.07364, params: {'min_samples_split': 2, 'min_impurity_split': 0.0001, 'n_estimators': 100},\n",
       "  mean: 0.66241, std: 0.07074, params: {'min_samples_split': 2, 'min_impurity_split': 0.0001, 'n_estimators': 1000},\n",
       "  mean: 0.68654, std: 0.06294, params: {'min_samples_split': 10, 'min_impurity_split': 0.0001, 'n_estimators': 10},\n",
       "  mean: 0.68078, std: 0.08039, params: {'min_samples_split': 10, 'min_impurity_split': 0.0001, 'n_estimators': 100},\n",
       "  mean: 0.67845, std: 0.07723, params: {'min_samples_split': 10, 'min_impurity_split': 0.0001, 'n_estimators': 1000},\n",
       "  mean: 0.66442, std: 0.08499, params: {'min_samples_split': 20, 'min_impurity_split': 0.0001, 'n_estimators': 10},\n",
       "  mean: 0.67583, std: 0.07503, params: {'min_samples_split': 20, 'min_impurity_split': 0.0001, 'n_estimators': 100},\n",
       "  mean: 0.67583, std: 0.07630, params: {'min_samples_split': 20, 'min_impurity_split': 0.0001, 'n_estimators': 1000},\n",
       "  mean: 0.61921, std: 0.10479, params: {'min_samples_split': 2, 'min_impurity_split': 0.1, 'n_estimators': 10},\n",
       "  mean: 0.65602, std: 0.07594, params: {'min_samples_split': 2, 'min_impurity_split': 0.1, 'n_estimators': 100},\n",
       "  mean: 0.66137, std: 0.06952, params: {'min_samples_split': 2, 'min_impurity_split': 0.1, 'n_estimators': 1000},\n",
       "  mean: 0.65455, std: 0.07184, params: {'min_samples_split': 10, 'min_impurity_split': 0.1, 'n_estimators': 10},\n",
       "  mean: 0.67069, std: 0.07590, params: {'min_samples_split': 10, 'min_impurity_split': 0.1, 'n_estimators': 100},\n",
       "  mean: 0.67803, std: 0.07791, params: {'min_samples_split': 10, 'min_impurity_split': 0.1, 'n_estimators': 1000},\n",
       "  mean: 0.66848, std: 0.07895, params: {'min_samples_split': 20, 'min_impurity_split': 0.1, 'n_estimators': 10},\n",
       "  mean: 0.67717, std: 0.07532, params: {'min_samples_split': 20, 'min_impurity_split': 0.1, 'n_estimators': 100},\n",
       "  mean: 0.67683, std: 0.07466, params: {'min_samples_split': 20, 'min_impurity_split': 0.1, 'n_estimators': 1000}],\n",
       " {'min_impurity_split': 0.0001, 'min_samples_split': 10, 'n_estimators': 10},\n",
       " 0.686543973552571)"
      ]
     },
     "execution_count": 35,
     "metadata": {},
     "output_type": "execute_result"
    }
   ],
   "source": [
    "clf.fit(X_train,y_train)\n",
    "clf.grid_scores_, clf.best_params_, clf.best_score_"
   ]
  },
  {
   "cell_type": "code",
   "execution_count": 37,
   "metadata": {
    "collapsed": true
   },
   "outputs": [],
   "source": [
    "parameters = {'n_iter':[300,1000,2000],'tol':[0.1,0.001,0.0001],'threshold_lambda':[1000,10000,100000]}\n",
    "clf = GridSearchCV(model1, parameters ,n_jobs=-1,cv=5)"
   ]
  },
  {
   "cell_type": "code",
   "execution_count": 39,
   "metadata": {
    "collapsed": false
   },
   "outputs": [
    {
     "data": {
      "text/plain": [
       "([mean: 0.55800, std: 0.13639, params: {'n_iter': 300, 'threshold_lambda': 1000, 'tol': 0.1},\n",
       "  mean: 0.55723, std: 0.13628, params: {'n_iter': 300, 'threshold_lambda': 1000, 'tol': 0.001},\n",
       "  mean: 0.55719, std: 0.13627, params: {'n_iter': 300, 'threshold_lambda': 1000, 'tol': 0.0001},\n",
       "  mean: 0.55800, std: 0.13639, params: {'n_iter': 300, 'threshold_lambda': 10000, 'tol': 0.1},\n",
       "  mean: 0.55723, std: 0.13628, params: {'n_iter': 300, 'threshold_lambda': 10000, 'tol': 0.001},\n",
       "  mean: 0.55719, std: 0.13627, params: {'n_iter': 300, 'threshold_lambda': 10000, 'tol': 0.0001},\n",
       "  mean: 0.55800, std: 0.13639, params: {'n_iter': 300, 'threshold_lambda': 100000, 'tol': 0.1},\n",
       "  mean: 0.55723, std: 0.13628, params: {'n_iter': 300, 'threshold_lambda': 100000, 'tol': 0.001},\n",
       "  mean: 0.55719, std: 0.13627, params: {'n_iter': 300, 'threshold_lambda': 100000, 'tol': 0.0001},\n",
       "  mean: 0.55800, std: 0.13639, params: {'n_iter': 1000, 'threshold_lambda': 1000, 'tol': 0.1},\n",
       "  mean: 0.55723, std: 0.13628, params: {'n_iter': 1000, 'threshold_lambda': 1000, 'tol': 0.001},\n",
       "  mean: 0.55719, std: 0.13627, params: {'n_iter': 1000, 'threshold_lambda': 1000, 'tol': 0.0001},\n",
       "  mean: 0.55800, std: 0.13639, params: {'n_iter': 1000, 'threshold_lambda': 10000, 'tol': 0.1},\n",
       "  mean: 0.55723, std: 0.13628, params: {'n_iter': 1000, 'threshold_lambda': 10000, 'tol': 0.001},\n",
       "  mean: 0.55719, std: 0.13627, params: {'n_iter': 1000, 'threshold_lambda': 10000, 'tol': 0.0001},\n",
       "  mean: 0.55800, std: 0.13639, params: {'n_iter': 1000, 'threshold_lambda': 100000, 'tol': 0.1},\n",
       "  mean: 0.55723, std: 0.13628, params: {'n_iter': 1000, 'threshold_lambda': 100000, 'tol': 0.001},\n",
       "  mean: 0.55719, std: 0.13627, params: {'n_iter': 1000, 'threshold_lambda': 100000, 'tol': 0.0001},\n",
       "  mean: 0.55800, std: 0.13639, params: {'n_iter': 2000, 'threshold_lambda': 1000, 'tol': 0.1},\n",
       "  mean: 0.55723, std: 0.13628, params: {'n_iter': 2000, 'threshold_lambda': 1000, 'tol': 0.001},\n",
       "  mean: 0.55719, std: 0.13627, params: {'n_iter': 2000, 'threshold_lambda': 1000, 'tol': 0.0001},\n",
       "  mean: 0.55800, std: 0.13639, params: {'n_iter': 2000, 'threshold_lambda': 10000, 'tol': 0.1},\n",
       "  mean: 0.55723, std: 0.13628, params: {'n_iter': 2000, 'threshold_lambda': 10000, 'tol': 0.001},\n",
       "  mean: 0.55719, std: 0.13627, params: {'n_iter': 2000, 'threshold_lambda': 10000, 'tol': 0.0001},\n",
       "  mean: 0.55800, std: 0.13639, params: {'n_iter': 2000, 'threshold_lambda': 100000, 'tol': 0.1},\n",
       "  mean: 0.55723, std: 0.13628, params: {'n_iter': 2000, 'threshold_lambda': 100000, 'tol': 0.001},\n",
       "  mean: 0.55719, std: 0.13627, params: {'n_iter': 2000, 'threshold_lambda': 100000, 'tol': 0.0001}],\n",
       " {'n_iter': 300, 'threshold_lambda': 1000, 'tol': 0.1},\n",
       " 0.5580048445786469)"
      ]
     },
     "execution_count": 39,
     "metadata": {},
     "output_type": "execute_result"
    }
   ],
   "source": [
    "clf.fit(X_train,y_train)\n",
    "clf.grid_scores_, clf.best_params_, clf.best_score_"
   ]
  },
  {
   "cell_type": "code",
   "execution_count": 40,
   "metadata": {
    "collapsed": true
   },
   "outputs": [],
   "source": [
    "model = ExtraTreesRegressor(min_impurity_split=0.0001, min_samples_split=10, n_estimators=10)"
   ]
  },
  {
   "cell_type": "code",
   "execution_count": 42,
   "metadata": {
    "collapsed": false
   },
   "outputs": [
    {
     "name": "stderr",
     "output_type": "stream",
     "text": [
      "/root/anaconda2/lib/python2.7/site-packages/ipykernel/__main__.py:2: SettingWithCopyWarning: \n",
      "A value is trying to be set on a copy of a slice from a DataFrame.\n",
      "Try using .loc[row_indexer,col_indexer] = value instead\n",
      "\n",
      "See the caveats in the documentation: http://pandas.pydata.org/pandas-docs/stable/indexing.html#indexing-view-versus-copy\n",
      "  from ipykernel import kernelapp as app\n",
      "/root/anaconda2/lib/python2.7/site-packages/pandas/core/series.py:2571: SettingWithCopyWarning: \n",
      "A value is trying to be set on a copy of a slice from a DataFrame\n",
      "\n",
      "See the caveats in the documentation: http://pandas.pydata.org/pandas-docs/stable/indexing.html#indexing-view-versus-copy\n",
      "  self._update_inplace(result)\n"
     ]
    }
   ],
   "source": [
    "df = google[['Close','Volume','Spread','Per_Change']]\n",
    "df['label'] = df[closecol].shift(-sevendays)\n",
    "X = np.array(df.drop(['label'],1)) \n",
    "X_lately = X[-sevendays:] \n",
    "X = X[:-sevendays]\n",
    "y = df['label']\n",
    "y.dropna(inplace=True)"
   ]
  },
  {
   "cell_type": "code",
   "execution_count": 43,
   "metadata": {
    "collapsed": false
   },
   "outputs": [
    {
     "data": {
      "text/plain": [
       "<matplotlib.text.Text at 0x7f7f573ab6d0>"
      ]
     },
     "execution_count": 43,
     "metadata": {},
     "output_type": "execute_result"
    },
    {
     "data": {
      "image/png": "[encoded data removed]",
      "text/plain": [
       "<matplotlib.figure.Figure at 0x7f7f4ef40550>"
      ]
     },
     "metadata": {},
     "output_type": "display_data"
    }
   ],
   "source": [
    "model.fit(X,y)\n",
    "y_pred = model.predict(X_lately)\n",
    "%matplotlib inline\n",
    "X_lately_dates = dates[-sevendays:]\n",
    "plt.plot_date(X_lately_dates,y_pred,'-')\n",
    "plt.xticks(rotation='vertical')\n",
    "plt.xlabel('Dates')\n",
    "plt.ylabel('Predicted Stock Prices For 7 days after the dates')"
   ]
  }
 ],
 "metadata": {
  "kernelspec": {
   "display_name": "Python [conda root]",
   "language": "python",
   "name": "conda-root-py"
  },
  "language_info": {
   "codemirror_mode": {
    "name": "ipython",
    "version": 2
   },
   "file_extension": ".py",
   "mimetype": "text/x-python",
   "name": "python",
   "nbconvert_exporter": "python",
   "pygments_lexer": "ipython2",
   "version": "2.7.12"
  }
 },
 "nbformat": 4,
 "nbformat_minor": 1
}
