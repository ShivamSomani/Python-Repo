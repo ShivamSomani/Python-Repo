{
 "cells": [
  {
   "cell_type": "code",
   "execution_count": 1,
   "metadata": {
    "collapsed": true
   },
   "outputs": [],
   "source": [
    "import pandas as pd\n",
    "import numpy as np\n",
    "import matplotlib.pyplot as plt"
   ]
  },
  {
   "cell_type": "code",
   "execution_count": 2,
   "metadata": {
    "collapsed": false
   },
   "outputs": [
    {
     "data": {
      "text/plain": [
       "(251, 6)"
      ]
     },
     "execution_count": 2,
     "metadata": {},
     "output_type": "execute_result"
    }
   ],
   "source": [
    "fb = pd.read_csv('/root/Desktop/fb.csv',  encoding='utf-8-sig')\n",
    "fb.shape"
   ]
  },
  {
   "cell_type": "code",
   "execution_count": 3,
   "metadata": {
    "collapsed": true
   },
   "outputs": [],
   "source": [
    "dates = fb['Date']\n",
    "close = fb['Close']"
   ]
  },
  {
   "cell_type": "code",
   "execution_count": 4,
   "metadata": {
    "collapsed": true
   },
   "outputs": [],
   "source": [
    "spread = ((fb['High']-fb['Low'])/fb['Low'])*100\n",
    "per_change = ((fb['Close']-fb['Open'])/fb['Open'])*100"
   ]
  },
  {
   "cell_type": "code",
   "execution_count": 5,
   "metadata": {
    "collapsed": false
   },
   "outputs": [
    {
     "data": {
      "text/html": [
       "<div>\n",
       "<table border=\"1\" class=\"dataframe\">\n",
       "  <thead>\n",
       "    <tr style=\"text-align: right;\">\n",
       "      <th></th>\n",
       "      <th>Date</th>\n",
       "      <th>Open</th>\n",
       "      <th>High</th>\n",
       "      <th>Low</th>\n",
       "      <th>Close</th>\n",
       "      <th>Volume</th>\n",
       "      <th>Spread</th>\n",
       "      <th>Per_Change</th>\n",
       "    </tr>\n",
       "  </thead>\n",
       "  <tbody>\n",
       "    <tr>\n",
       "      <th>0</th>\n",
       "      <td>30-Nov-16</td>\n",
       "      <td>120.32</td>\n",
       "      <td>121.79</td>\n",
       "      <td>117.95</td>\n",
       "      <td>118.42</td>\n",
       "      <td>30035555</td>\n",
       "      <td>3.255617</td>\n",
       "      <td>-1.579122</td>\n",
       "    </tr>\n",
       "    <tr>\n",
       "      <th>1</th>\n",
       "      <td>29-Nov-16</td>\n",
       "      <td>120.57</td>\n",
       "      <td>122.10</td>\n",
       "      <td>120.40</td>\n",
       "      <td>120.87</td>\n",
       "      <td>18890956</td>\n",
       "      <td>1.411960</td>\n",
       "      <td>0.248818</td>\n",
       "    </tr>\n",
       "    <tr>\n",
       "      <th>2</th>\n",
       "      <td>28-Nov-16</td>\n",
       "      <td>120.12</td>\n",
       "      <td>121.69</td>\n",
       "      <td>119.82</td>\n",
       "      <td>120.41</td>\n",
       "      <td>18101314</td>\n",
       "      <td>1.560674</td>\n",
       "      <td>0.241425</td>\n",
       "    </tr>\n",
       "    <tr>\n",
       "      <th>3</th>\n",
       "      <td>25-Nov-16</td>\n",
       "      <td>121.01</td>\n",
       "      <td>121.14</td>\n",
       "      <td>120.07</td>\n",
       "      <td>120.38</td>\n",
       "      <td>8658605</td>\n",
       "      <td>0.891147</td>\n",
       "      <td>-0.520618</td>\n",
       "    </tr>\n",
       "    <tr>\n",
       "      <th>4</th>\n",
       "      <td>23-Nov-16</td>\n",
       "      <td>121.23</td>\n",
       "      <td>121.31</td>\n",
       "      <td>119.94</td>\n",
       "      <td>120.84</td>\n",
       "      <td>15672136</td>\n",
       "      <td>1.142238</td>\n",
       "      <td>-0.321703</td>\n",
       "    </tr>\n",
       "  </tbody>\n",
       "</table>\n",
       "</div>"
      ],
      "text/plain": [
       "        Date    Open    High     Low   Close    Volume    Spread  Per_Change\n",
       "0  30-Nov-16  120.32  121.79  117.95  118.42  30035555  3.255617   -1.579122\n",
       "1  29-Nov-16  120.57  122.10  120.40  120.87  18890956  1.411960    0.248818\n",
       "2  28-Nov-16  120.12  121.69  119.82  120.41  18101314  1.560674    0.241425\n",
       "3  25-Nov-16  121.01  121.14  120.07  120.38   8658605  0.891147   -0.520618\n",
       "4  23-Nov-16  121.23  121.31  119.94  120.84  15672136  1.142238   -0.321703"
      ]
     },
     "execution_count": 5,
     "metadata": {},
     "output_type": "execute_result"
    }
   ],
   "source": [
    "fb['Spread'] = spread\n",
    "fb['Per_Change'] = per_change\n",
    "fb.head()"
   ]
  },
  {
   "cell_type": "code",
   "execution_count": 6,
   "metadata": {
    "collapsed": true
   },
   "outputs": [],
   "source": [
    "df = fb[['Close','Volume','Spread','Per_Change']]"
   ]
  },
  {
   "cell_type": "code",
   "execution_count": 7,
   "metadata": {
    "collapsed": false
   },
   "outputs": [
    {
     "name": "stderr",
     "output_type": "stream",
     "text": [
      "/root/anaconda2/lib/python2.7/site-packages/pandas/core/frame.py:2762: SettingWithCopyWarning: \n",
      "A value is trying to be set on a copy of a slice from a DataFrame\n",
      "\n",
      "See the caveats in the documentation: http://pandas.pydata.org/pandas-docs/stable/indexing.html#indexing-view-versus-copy\n",
      "  downcast=downcast, **kwargs)\n"
     ]
    }
   ],
   "source": [
    "import math\n",
    "closecol = 'Close'\n",
    "df.fillna(value=-99999, inplace=True)\n",
    "sevendays = 7"
   ]
  },
  {
   "cell_type": "code",
   "execution_count": 8,
   "metadata": {
    "collapsed": false
   },
   "outputs": [
    {
     "name": "stderr",
     "output_type": "stream",
     "text": [
      "/root/anaconda2/lib/python2.7/site-packages/ipykernel/__main__.py:1: SettingWithCopyWarning: \n",
      "A value is trying to be set on a copy of a slice from a DataFrame.\n",
      "Try using .loc[row_indexer,col_indexer] = value instead\n",
      "\n",
      "See the caveats in the documentation: http://pandas.pydata.org/pandas-docs/stable/indexing.html#indexing-view-versus-copy\n",
      "  if __name__ == '__main__':\n"
     ]
    }
   ],
   "source": [
    "df['label'] = df[closecol].shift(-sevendays)"
   ]
  },
  {
   "cell_type": "code",
   "execution_count": 9,
   "metadata": {
    "collapsed": false
   },
   "outputs": [
    {
     "data": {
      "text/html": [
       "<div>\n",
       "<table border=\"1\" class=\"dataframe\">\n",
       "  <thead>\n",
       "    <tr style=\"text-align: right;\">\n",
       "      <th></th>\n",
       "      <th>Close</th>\n",
       "      <th>Volume</th>\n",
       "      <th>Spread</th>\n",
       "      <th>Per_Change</th>\n",
       "      <th>label</th>\n",
       "    </tr>\n",
       "  </thead>\n",
       "  <tbody>\n",
       "    <tr>\n",
       "      <th>246</th>\n",
       "      <td>104.60</td>\n",
       "      <td>23517268</td>\n",
       "      <td>2.790922</td>\n",
       "      <td>-1.488039</td>\n",
       "      <td>NaN</td>\n",
       "    </tr>\n",
       "    <tr>\n",
       "      <th>247</th>\n",
       "      <td>106.49</td>\n",
       "      <td>20401791</td>\n",
       "      <td>2.847523</td>\n",
       "      <td>2.394231</td>\n",
       "      <td>NaN</td>\n",
       "    </tr>\n",
       "    <tr>\n",
       "      <th>248</th>\n",
       "      <td>105.61</td>\n",
       "      <td>15474890</td>\n",
       "      <td>2.073380</td>\n",
       "      <td>-0.817055</td>\n",
       "      <td>NaN</td>\n",
       "    </tr>\n",
       "    <tr>\n",
       "      <th>249</th>\n",
       "      <td>106.18</td>\n",
       "      <td>21224721</td>\n",
       "      <td>3.477092</td>\n",
       "      <td>1.365155</td>\n",
       "      <td>NaN</td>\n",
       "    </tr>\n",
       "    <tr>\n",
       "      <th>250</th>\n",
       "      <td>104.38</td>\n",
       "      <td>23236485</td>\n",
       "      <td>3.386551</td>\n",
       "      <td>0.413660</td>\n",
       "      <td>NaN</td>\n",
       "    </tr>\n",
       "  </tbody>\n",
       "</table>\n",
       "</div>"
      ],
      "text/plain": [
       "      Close    Volume    Spread  Per_Change  label\n",
       "246  104.60  23517268  2.790922   -1.488039    NaN\n",
       "247  106.49  20401791  2.847523    2.394231    NaN\n",
       "248  105.61  15474890  2.073380   -0.817055    NaN\n",
       "249  106.18  21224721  3.477092    1.365155    NaN\n",
       "250  104.38  23236485  3.386551    0.413660    NaN"
      ]
     },
     "execution_count": 9,
     "metadata": {},
     "output_type": "execute_result"
    }
   ],
   "source": [
    "df.tail()"
   ]
  },
  {
   "cell_type": "code",
   "execution_count": 10,
   "metadata": {
    "collapsed": false
   },
   "outputs": [
    {
     "name": "stderr",
     "output_type": "stream",
     "text": [
      "/root/anaconda2/lib/python2.7/site-packages/ipykernel/__main__.py:1: SettingWithCopyWarning: \n",
      "A value is trying to be set on a copy of a slice from a DataFrame\n",
      "\n",
      "See the caveats in the documentation: http://pandas.pydata.org/pandas-docs/stable/indexing.html#indexing-view-versus-copy\n",
      "  if __name__ == '__main__':\n"
     ]
    }
   ],
   "source": [
    "df.dropna(inplace=True)"
   ]
  },
  {
   "cell_type": "code",
   "execution_count": 11,
   "metadata": {
    "collapsed": false
   },
   "outputs": [
    {
     "name": "stderr",
     "output_type": "stream",
     "text": [
      "/root/anaconda2/lib/python2.7/site-packages/sklearn/cross_validation.py:44: DeprecationWarning: This module was deprecated in version 0.18 in favor of the model_selection module into which all the refactored classes and functions are moved. Also note that the interface of the new CV iterators are different from that of this module. This module will be removed in 0.20.\n",
      "  \"This module will be removed in 0.20.\", DeprecationWarning)\n"
     ]
    }
   ],
   "source": [
    "X = np.array(df.drop(['label'], 1))\n",
    "y = np.array(df['label'])\n",
    "from sklearn.cross_validation import train_test_split"
   ]
  },
  {
   "cell_type": "code",
   "execution_count": 12,
   "metadata": {
    "collapsed": true
   },
   "outputs": [],
   "source": [
    "X_train , X_test, y_train, y_test = train_test_split(X,y,test_size=0.25)"
   ]
  },
  {
   "cell_type": "code",
   "execution_count": 13,
   "metadata": {
    "collapsed": false
   },
   "outputs": [
    {
     "data": {
      "text/plain": [
       "(183, 4)"
      ]
     },
     "execution_count": 13,
     "metadata": {},
     "output_type": "execute_result"
    }
   ],
   "source": [
    "X_train.shape"
   ]
  },
  {
   "cell_type": "code",
   "execution_count": 14,
   "metadata": {
    "collapsed": false
   },
   "outputs": [
    {
     "data": {
      "text/plain": [
       "(183,)"
      ]
     },
     "execution_count": 14,
     "metadata": {},
     "output_type": "execute_result"
    }
   ],
   "source": [
    "y_train.shape"
   ]
  },
  {
   "cell_type": "code",
   "execution_count": 15,
   "metadata": {
    "collapsed": true
   },
   "outputs": [],
   "source": [
    "from sklearn.linear_model import SGDRegressor\n",
    "from sklearn.linear_model import TheilSenRegressor\n",
    "from sklearn.linear_model import LinearRegression\n",
    "from sklearn.ensemble import RandomForestRegressor\n",
    "from sklearn.ensemble import ExtraTreesRegressor\n",
    "from sklearn.ensemble import GradientBoostingRegressor\n",
    "from xgboost import XGBRegressor\n",
    "from sklearn.svm import SVR\n",
    "from sklearn.linear_model import Ridge\n",
    "from sklearn.linear_model import Lasso\n",
    "from sklearn.linear_model import LassoLars\n",
    "from sklearn.linear_model import BayesianRidge\n",
    "from sklearn.linear_model import PassiveAggressiveRegressor\n",
    "from sklearn.linear_model import ARDRegression\n",
    "from sklearn.linear_model import RANSACRegressor\n",
    "from sklearn.linear_model import HuberRegressor\n",
    "from sklearn.neighbors import KNeighborsRegressor"
   ]
  },
  {
   "cell_type": "code",
   "execution_count": 27,
   "metadata": {
    "collapsed": true
   },
   "outputs": [],
   "source": [
    "scores = []\n",
    "for k in [KNeighborsRegressor(), RANSACRegressor(), HuberRegressor(), ARDRegression(),\n",
    "          PassiveAggressiveRegressor(), BayesianRidge(), Lasso(), LassoLars(), Ridge(), SVR(), XGBRegressor(),\n",
    "          RandomForestRegressor(), ExtraTreesRegressor(), GradientBoostingRegressor(), LinearRegression(),\n",
    "          TheilSenRegressor()]:\n",
    "    clf = k\n",
    "    k.fit(X_train,y_train)\n",
    "    scores.append(clf.score(X_test,y_test))"
   ]
  },
  {
   "cell_type": "code",
   "execution_count": 28,
   "metadata": {
    "collapsed": false
   },
   "outputs": [
    {
     "data": {
      "text/plain": [
       "[0.0430466274418142,\n",
       " 0.75944707148145418,\n",
       " -35.526061887256247,\n",
       " 0.73949082822244117,\n",
       " -558.21856066332862,\n",
       " 0.76492430305376558,\n",
       " 0.73219302369899442,\n",
       " -0.00067139310677877262,\n",
       " 0.7731569309829962,\n",
       " -0.00075050083572758552,\n",
       " 0.76341134992324533,\n",
       " 0.78568142453171841,\n",
       " 0.75917512854051683,\n",
       " 0.76416332644140328,\n",
       " 0.77337348869450706,\n",
       " 0.7555655337171816]"
      ]
     },
     "execution_count": 28,
     "metadata": {},
     "output_type": "execute_result"
    }
   ],
   "source": [
    "scores"
   ]
  },
  {
   "cell_type": "code",
   "execution_count": 29,
   "metadata": {
    "collapsed": false
   },
   "outputs": [
    {
     "data": {
      "text/plain": [
       "0.78568142453171841"
      ]
     },
     "execution_count": 29,
     "metadata": {},
     "output_type": "execute_result"
    }
   ],
   "source": [
    "max(scores)"
   ]
  },
  {
   "cell_type": "code",
   "execution_count": 30,
   "metadata": {
    "collapsed": false,
    "scrolled": true
   },
   "outputs": [
    {
     "name": "stderr",
     "output_type": "stream",
     "text": [
      "/root/anaconda2/lib/python2.7/site-packages/sklearn/grid_search.py:43: DeprecationWarning: This module was deprecated in version 0.18 in favor of the model_selection module into which all the refactored classes and functions are moved. This module will be removed in 0.20.\n",
      "  DeprecationWarning)\n"
     ]
    }
   ],
   "source": [
    "from sklearn.grid_search import GridSearchCV"
   ]
  },
  {
   "cell_type": "code",
   "execution_count": 31,
   "metadata": {
    "collapsed": false
   },
   "outputs": [],
   "source": [
    "model = RandomForestRegressor()"
   ]
  },
  {
   "cell_type": "code",
   "execution_count": 32,
   "metadata": {
    "collapsed": true
   },
   "outputs": [],
   "source": [
    "parameters = {'n_estimators':[10,100,1000],'min_impurity_split':[1e-7,1e-4,1e-1],'min_samples_split':[2,10,20]}\n",
    "clf = GridSearchCV(model, parameters ,n_jobs=-1,cv=5)"
   ]
  },
  {
   "cell_type": "code",
   "execution_count": 34,
   "metadata": {
    "collapsed": false
   },
   "outputs": [
    {
     "data": {
      "text/plain": [
       "([mean: 0.73698, std: 0.04375, params: {'min_samples_split': 2, 'min_impurity_split': 1e-07, 'n_estimators': 10},\n",
       "  mean: 0.74572, std: 0.02889, params: {'min_samples_split': 2, 'min_impurity_split': 1e-07, 'n_estimators': 100},\n",
       "  mean: 0.74565, std: 0.02281, params: {'min_samples_split': 2, 'min_impurity_split': 1e-07, 'n_estimators': 1000},\n",
       "  mean: 0.75467, std: 0.03367, params: {'min_samples_split': 10, 'min_impurity_split': 1e-07, 'n_estimators': 10},\n",
       "  mean: 0.75281, std: 0.02414, params: {'min_samples_split': 10, 'min_impurity_split': 1e-07, 'n_estimators': 100},\n",
       "  mean: 0.74669, std: 0.02509, params: {'min_samples_split': 10, 'min_impurity_split': 1e-07, 'n_estimators': 1000},\n",
       "  mean: 0.73696, std: 0.03065, params: {'min_samples_split': 20, 'min_impurity_split': 1e-07, 'n_estimators': 10},\n",
       "  mean: 0.75141, std: 0.03103, params: {'min_samples_split': 20, 'min_impurity_split': 1e-07, 'n_estimators': 100},\n",
       "  mean: 0.75427, std: 0.03381, params: {'min_samples_split': 20, 'min_impurity_split': 1e-07, 'n_estimators': 1000},\n",
       "  mean: 0.72338, std: 0.03344, params: {'min_samples_split': 2, 'min_impurity_split': 0.0001, 'n_estimators': 10},\n",
       "  mean: 0.75176, std: 0.02498, params: {'min_samples_split': 2, 'min_impurity_split': 0.0001, 'n_estimators': 100},\n",
       "  mean: 0.74654, std: 0.02314, params: {'min_samples_split': 2, 'min_impurity_split': 0.0001, 'n_estimators': 1000},\n",
       "  mean: 0.74198, std: 0.04783, params: {'min_samples_split': 10, 'min_impurity_split': 0.0001, 'n_estimators': 10},\n",
       "  mean: 0.75056, std: 0.03094, params: {'min_samples_split': 10, 'min_impurity_split': 0.0001, 'n_estimators': 100},\n",
       "  mean: 0.74825, std: 0.02542, params: {'min_samples_split': 10, 'min_impurity_split': 0.0001, 'n_estimators': 1000},\n",
       "  mean: 0.72764, std: 0.04232, params: {'min_samples_split': 20, 'min_impurity_split': 0.0001, 'n_estimators': 10},\n",
       "  mean: 0.74867, std: 0.03315, params: {'min_samples_split': 20, 'min_impurity_split': 0.0001, 'n_estimators': 100},\n",
       "  mean: 0.75589, std: 0.03294, params: {'min_samples_split': 20, 'min_impurity_split': 0.0001, 'n_estimators': 1000},\n",
       "  mean: 0.72722, std: 0.02862, params: {'min_samples_split': 2, 'min_impurity_split': 0.1, 'n_estimators': 10},\n",
       "  mean: 0.73980, std: 0.02236, params: {'min_samples_split': 2, 'min_impurity_split': 0.1, 'n_estimators': 100},\n",
       "  mean: 0.74508, std: 0.02280, params: {'min_samples_split': 2, 'min_impurity_split': 0.1, 'n_estimators': 1000},\n",
       "  mean: 0.75177, std: 0.02766, params: {'min_samples_split': 10, 'min_impurity_split': 0.1, 'n_estimators': 10},\n",
       "  mean: 0.74619, std: 0.02233, params: {'min_samples_split': 10, 'min_impurity_split': 0.1, 'n_estimators': 100},\n",
       "  mean: 0.74823, std: 0.02582, params: {'min_samples_split': 10, 'min_impurity_split': 0.1, 'n_estimators': 1000},\n",
       "  mean: 0.75476, std: 0.03405, params: {'min_samples_split': 20, 'min_impurity_split': 0.1, 'n_estimators': 10},\n",
       "  mean: 0.74683, std: 0.02835, params: {'min_samples_split': 20, 'min_impurity_split': 0.1, 'n_estimators': 100},\n",
       "  mean: 0.75621, std: 0.03240, params: {'min_samples_split': 20, 'min_impurity_split': 0.1, 'n_estimators': 1000}],\n",
       " {'min_impurity_split': 0.1, 'min_samples_split': 20, 'n_estimators': 1000},\n",
       " 0.7562142308624284)"
      ]
     },
     "execution_count": 34,
     "metadata": {},
     "output_type": "execute_result"
    }
   ],
   "source": [
    "clf.fit(X_train,y_train)\n",
    "clf.grid_scores_, clf.best_params_, clf.best_score_"
   ]
  },
  {
   "cell_type": "code",
   "execution_count": 42,
   "metadata": {
    "collapsed": true
   },
   "outputs": [],
   "source": [
    "model = RandomForestRegressor(min_impurity_split=0.1,min_samples_split=20,n_estimators=1000)"
   ]
  },
  {
   "cell_type": "code",
   "execution_count": 43,
   "metadata": {
    "collapsed": false
   },
   "outputs": [
    {
     "name": "stderr",
     "output_type": "stream",
     "text": [
      "/root/anaconda2/lib/python2.7/site-packages/ipykernel/__main__.py:2: SettingWithCopyWarning: \n",
      "A value is trying to be set on a copy of a slice from a DataFrame.\n",
      "Try using .loc[row_indexer,col_indexer] = value instead\n",
      "\n",
      "See the caveats in the documentation: http://pandas.pydata.org/pandas-docs/stable/indexing.html#indexing-view-versus-copy\n",
      "  from ipykernel import kernelapp as app\n",
      "/root/anaconda2/lib/python2.7/site-packages/pandas/core/series.py:2571: SettingWithCopyWarning: \n",
      "A value is trying to be set on a copy of a slice from a DataFrame\n",
      "\n",
      "See the caveats in the documentation: http://pandas.pydata.org/pandas-docs/stable/indexing.html#indexing-view-versus-copy\n",
      "  self._update_inplace(result)\n"
     ]
    }
   ],
   "source": [
    "df = fb[['Close','Volume','Spread','Per_Change']]\n",
    "df['label'] = df[closecol].shift(-sevendays)\n",
    "X = np.array(df.drop(['label'],1)) \n",
    "X_lately = X[-sevendays:] \n",
    "X = X[:-sevendays]\n",
    "y = df['label']\n",
    "y.dropna(inplace=True)"
   ]
  },
  {
   "cell_type": "code",
   "execution_count": 44,
   "metadata": {
    "collapsed": false
   },
   "outputs": [
    {
     "data": {
      "text/plain": [
       "<matplotlib.text.Text at 0x7f9e61823710>"
      ]
     },
     "execution_count": 44,
     "metadata": {},
     "output_type": "execute_result"
    },
    {
     "data": {
      "image/png": "[encoded data removed]",
      "text/plain": [
       "<matplotlib.figure.Figure at 0x7f9e71aec510>"
      ]
     },
     "metadata": {},
     "output_type": "display_data"
    }
   ],
   "source": [
    "model.fit(X,y)\n",
    "y_pred = model.predict(X_lately)\n",
    "%matplotlib inline\n",
    "X_lately_dates = dates[-sevendays:]\n",
    "plt.plot_date(X_lately_dates,y_pred,'-')\n",
    "plt.xticks(rotation='vertical')\n",
    "plt.xlabel('Dates')\n",
    "plt.ylabel('Predicted Stock Prices For 7 days after the dates')"
   ]
  }
 ],
 "metadata": {
  "anaconda-cloud": {},
  "kernelspec": {
   "display_name": "Python [conda root]",
   "language": "python",
   "name": "conda-root-py"
  },
  "language_info": {
   "codemirror_mode": {
    "name": "ipython",
    "version": 2
   },
   "file_extension": ".py",
   "mimetype": "text/x-python",
   "name": "python",
   "nbconvert_exporter": "python",
   "pygments_lexer": "ipython2",
   "version": "2.7.12"
  }
 },
 "nbformat": 4,
 "nbformat_minor": 1
}
