{
 "cells": [
  {
   "cell_type": "code",
   "execution_count": 1,
   "metadata": {
    "collapsed": true
   },
   "outputs": [],
   "source": [
    "import pandas as pd\n",
    "import numpy as np\n",
    "import matplotlib.pyplot as plt\n",
    "import tensorflow as tf"
   ]
  },
  {
   "cell_type": "code",
   "execution_count": 12,
   "metadata": {
    "collapsed": false
   },
   "outputs": [
    {
     "data": {
      "text/html": [
       "<div>\n",
       "<table border=\"1\" class=\"dataframe\">\n",
       "  <thead>\n",
       "    <tr style=\"text-align: right;\">\n",
       "      <th></th>\n",
       "      <th>index</th>\n",
       "      <th>area</th>\n",
       "      <th>bathrooms</th>\n",
       "      <th>price</th>\n",
       "      <th>sq_price</th>\n",
       "    </tr>\n",
       "  </thead>\n",
       "  <tbody>\n",
       "    <tr>\n",
       "      <th>0</th>\n",
       "      <td>0</td>\n",
       "      <td>2104.0</td>\n",
       "      <td>3.0</td>\n",
       "      <td>399900.0</td>\n",
       "      <td>190.066540</td>\n",
       "    </tr>\n",
       "    <tr>\n",
       "      <th>1</th>\n",
       "      <td>1</td>\n",
       "      <td>1600.0</td>\n",
       "      <td>3.0</td>\n",
       "      <td>329900.0</td>\n",
       "      <td>206.187500</td>\n",
       "    </tr>\n",
       "    <tr>\n",
       "      <th>2</th>\n",
       "      <td>2</td>\n",
       "      <td>2400.0</td>\n",
       "      <td>3.0</td>\n",
       "      <td>369000.0</td>\n",
       "      <td>153.750000</td>\n",
       "    </tr>\n",
       "    <tr>\n",
       "      <th>3</th>\n",
       "      <td>3</td>\n",
       "      <td>1416.0</td>\n",
       "      <td>2.0</td>\n",
       "      <td>232000.0</td>\n",
       "      <td>163.841808</td>\n",
       "    </tr>\n",
       "    <tr>\n",
       "      <th>4</th>\n",
       "      <td>4</td>\n",
       "      <td>3000.0</td>\n",
       "      <td>4.0</td>\n",
       "      <td>539900.0</td>\n",
       "      <td>179.966667</td>\n",
       "    </tr>\n",
       "  </tbody>\n",
       "</table>\n",
       "</div>"
      ],
      "text/plain": [
       "   index    area  bathrooms     price    sq_price\n",
       "0      0  2104.0        3.0  399900.0  190.066540\n",
       "1      1  1600.0        3.0  329900.0  206.187500\n",
       "2      2  2400.0        3.0  369000.0  153.750000\n",
       "3      3  1416.0        2.0  232000.0  163.841808\n",
       "4      4  3000.0        4.0  539900.0  179.966667"
      ]
     },
     "execution_count": 12,
     "metadata": {},
     "output_type": "execute_result"
    }
   ],
   "source": [
    "#loading data(reading as a fataframe object)\n",
    "df = pd.read_csv('/root/Desktop/data.csv')\n",
    "df.head()"
   ]
  },
  {
   "cell_type": "code",
   "execution_count": 13,
   "metadata": {
    "collapsed": false
   },
   "outputs": [
    {
     "name": "stdout",
     "output_type": "stream",
     "text": [
      "     area  bathrooms\n",
      "0  2104.0        3.0\n",
      "1  1600.0        3.0\n",
      "2  2400.0        3.0\n",
      "3  1416.0        2.0\n",
      "4  3000.0        4.0\n",
      "5  1985.0        4.0\n",
      "6  1534.0        3.0\n",
      "7  1427.0        3.0\n",
      "8  1380.0        3.0\n",
      "9  1494.0        3.0\n"
     ]
    }
   ],
   "source": [
    "#removing the features we don't care about\n",
    "df = df.drop(['index', 'price', 'sq_price'], axis=1)\n",
    "#using only the first 10 rows\n",
    "df = df[0:10]\n",
    "print df"
   ]
  },
  {
   "cell_type": "code",
   "execution_count": 15,
   "metadata": {
    "collapsed": false
   },
   "outputs": [
    {
     "data": {
      "text/html": [
       "<div>\n",
       "<table border=\"1\" class=\"dataframe\">\n",
       "  <thead>\n",
       "    <tr style=\"text-align: right;\">\n",
       "      <th></th>\n",
       "      <th>area</th>\n",
       "      <th>bathrooms</th>\n",
       "      <th>y1</th>\n",
       "      <th>y2</th>\n",
       "    </tr>\n",
       "  </thead>\n",
       "  <tbody>\n",
       "    <tr>\n",
       "      <th>0</th>\n",
       "      <td>2104.0</td>\n",
       "      <td>3.0</td>\n",
       "      <td>1</td>\n",
       "      <td>0</td>\n",
       "    </tr>\n",
       "    <tr>\n",
       "      <th>1</th>\n",
       "      <td>1600.0</td>\n",
       "      <td>3.0</td>\n",
       "      <td>1</td>\n",
       "      <td>0</td>\n",
       "    </tr>\n",
       "    <tr>\n",
       "      <th>2</th>\n",
       "      <td>2400.0</td>\n",
       "      <td>3.0</td>\n",
       "      <td>0</td>\n",
       "      <td>1</td>\n",
       "    </tr>\n",
       "    <tr>\n",
       "      <th>3</th>\n",
       "      <td>1416.0</td>\n",
       "      <td>2.0</td>\n",
       "      <td>1</td>\n",
       "      <td>0</td>\n",
       "    </tr>\n",
       "    <tr>\n",
       "      <th>4</th>\n",
       "      <td>3000.0</td>\n",
       "      <td>4.0</td>\n",
       "      <td>0</td>\n",
       "      <td>1</td>\n",
       "    </tr>\n",
       "    <tr>\n",
       "      <th>5</th>\n",
       "      <td>1985.0</td>\n",
       "      <td>4.0</td>\n",
       "      <td>0</td>\n",
       "      <td>1</td>\n",
       "    </tr>\n",
       "    <tr>\n",
       "      <th>6</th>\n",
       "      <td>1534.0</td>\n",
       "      <td>3.0</td>\n",
       "      <td>1</td>\n",
       "      <td>0</td>\n",
       "    </tr>\n",
       "    <tr>\n",
       "      <th>7</th>\n",
       "      <td>1427.0</td>\n",
       "      <td>3.0</td>\n",
       "      <td>1</td>\n",
       "      <td>0</td>\n",
       "    </tr>\n",
       "    <tr>\n",
       "      <th>8</th>\n",
       "      <td>1380.0</td>\n",
       "      <td>3.0</td>\n",
       "      <td>1</td>\n",
       "      <td>0</td>\n",
       "    </tr>\n",
       "    <tr>\n",
       "      <th>9</th>\n",
       "      <td>1494.0</td>\n",
       "      <td>3.0</td>\n",
       "      <td>0</td>\n",
       "      <td>1</td>\n",
       "    </tr>\n",
       "  </tbody>\n",
       "</table>\n",
       "</div>"
      ],
      "text/plain": [
       "     area  bathrooms  y1  y2\n",
       "0  2104.0        3.0   1   0\n",
       "1  1600.0        3.0   1   0\n",
       "2  2400.0        3.0   0   1\n",
       "3  1416.0        2.0   1   0\n",
       "4  3000.0        4.0   0   1\n",
       "5  1985.0        4.0   0   1\n",
       "6  1534.0        3.0   1   0\n",
       "7  1427.0        3.0   1   0\n",
       "8  1380.0        3.0   1   0\n",
       "9  1494.0        3.0   0   1"
      ]
     },
     "execution_count": 15,
     "metadata": {},
     "output_type": "execute_result"
    }
   ],
   "source": [
    "#Now, we add labels to the dataset\n",
    "#1 is good buy and 0 is bad buy(introducing labels by\n",
    "#ourself)\n",
    "df.loc[:, ('y1')] = [1,1,0,1,0,0,1,1,1,0]\n",
    "#y2 is a negation of y1\n",
    "df.loc[:, ('y2')] = df['y1'] == 0\n",
    "#turn TRUE/FALSE  values to 1s and os for negation\n",
    "df.loc[:, ('y2')] = df['y2'].astype(int)\n",
    "df"
   ]
  },
  {
   "cell_type": "code",
   "execution_count": 17,
   "metadata": {
    "collapsed": false
   },
   "outputs": [],
   "source": [
    "#preparing the data for tensorflow(tensors)\n",
    "#tensors are generic versions of vectors and matrices\n",
    "#a vector is a 1D tensor\n",
    "#converting features to input tensors\n",
    "inputX = df.loc[:, ['area','bathrooms']].as_matrix()\n",
    "#convert labels to tensors\n",
    "inputY = df.loc[:, ['y1','y2']].as_matrix()"
   ]
  },
  {
   "cell_type": "code",
   "execution_count": 18,
   "metadata": {
    "collapsed": false
   },
   "outputs": [
    {
     "data": {
      "text/plain": [
       "array([[  2.10400000e+03,   3.00000000e+00],\n",
       "       [  1.60000000e+03,   3.00000000e+00],\n",
       "       [  2.40000000e+03,   3.00000000e+00],\n",
       "       [  1.41600000e+03,   2.00000000e+00],\n",
       "       [  3.00000000e+03,   4.00000000e+00],\n",
       "       [  1.98500000e+03,   4.00000000e+00],\n",
       "       [  1.53400000e+03,   3.00000000e+00],\n",
       "       [  1.42700000e+03,   3.00000000e+00],\n",
       "       [  1.38000000e+03,   3.00000000e+00],\n",
       "       [  1.49400000e+03,   3.00000000e+00]])"
      ]
     },
     "execution_count": 18,
     "metadata": {},
     "output_type": "execute_result"
    }
   ],
   "source": [
    "inputX"
   ]
  },
  {
   "cell_type": "code",
   "execution_count": 19,
   "metadata": {
    "collapsed": false
   },
   "outputs": [
    {
     "data": {
      "text/plain": [
       "array([[1, 0],\n",
       "       [1, 0],\n",
       "       [0, 1],\n",
       "       [1, 0],\n",
       "       [0, 1],\n",
       "       [0, 1],\n",
       "       [1, 0],\n",
       "       [1, 0],\n",
       "       [1, 0],\n",
       "       [0, 1]])"
      ]
     },
     "execution_count": 19,
     "metadata": {},
     "output_type": "execute_result"
    }
   ],
   "source": [
    "inputY"
   ]
  },
  {
   "cell_type": "code",
   "execution_count": 20,
   "metadata": {
    "collapsed": true
   },
   "outputs": [],
   "source": [
    "#Write out the hyperparameters\n",
    "#learning rate determines how fast the model converges\n",
    "learning_rate = 0.00001\n",
    "#number of iterations for which the model will train\n",
    "training_epochs = 2000\n",
    "display_step = 50\n",
    "n_samples = inputY.size"
   ]
  },
  {
   "cell_type": "code",
   "execution_count": 26,
   "metadata": {
    "collapsed": false
   },
   "outputs": [],
   "source": [
    "#Creation of the neural network using tensorflow\n",
    "#for feature input tensors, none means any number of \n",
    "#examples and 2 implies that 2 features are there\n",
    "#placeholders are gateways for data into the computation\n",
    "#graph\n",
    "x = tf.placeholder(tf.float32,[None,2])\n",
    "#create weights\n",
    "#2*2 float matrix, that keeps on updating while the \n",
    "#training process\n",
    "#variables in tf hold and update parameters in memory\n",
    "w = tf.Variable(tf.zeros([2,2]))\n",
    "#add biases, they help in training the model better\n",
    "b = tf.Variable(tf.zeros([2]))\n",
    "#multiply the weights by inputs\n",
    "#multiply the input by weights and add biases\n",
    "y_values = tf.add(tf.matmul(x, w),b)\n",
    "#apply softmax to the value which we just created, it is\n",
    "#the activation function or normalises the values\n",
    "y = tf.nn.softmax(y_values)\n",
    "#feed in a matrix of labels\n",
    "y2 = tf.placeholder(tf.float32,[None,2])"
   ]
  },
  {
   "cell_type": "code",
   "execution_count": 27,
   "metadata": {
    "collapsed": true
   },
   "outputs": [],
   "source": [
    "#perform the training work\n",
    "#create the cost function of mean squared error\n",
    "#reduce sum computes the sum of elements across the \n",
    "#dimensions of tensor\n",
    "cost = tf.reduce_sum(tf.pow(y2-y,2))/(2*n_samples)\n",
    "#Gradient descent\n",
    "optimizer = tf.train.GradientDescentOptimizer(learning_rate).minimize(cost)"
   ]
  },
  {
   "cell_type": "code",
   "execution_count": 32,
   "metadata": {
    "collapsed": false
   },
   "outputs": [
    {
     "name": "stdout",
     "output_type": "stream",
     "text": [
      "WARNING:tensorflow:From <ipython-input-32-b78ccbdfcbe1>:2 in <module>.: initialize_all_variables (from tensorflow.python.ops.variables) is deprecated and will be removed after 2017-03-02.\n",
      "Instructions for updating:\n",
      "Use `tf.global_variables_initializer` instead.\n"
     ]
    }
   ],
   "source": [
    "#initialize variables and tensorflow session\n",
    "init = tf.initialize_all_variables()\n",
    "session = tf.Session()\n",
    "session.run(init)"
   ]
  },
  {
   "cell_type": "code",
   "execution_count": 34,
   "metadata": {
    "collapsed": false,
    "scrolled": true
   },
   "outputs": [
    {
     "name": "stdout",
     "output_type": "stream",
     "text": [
      "Training Step: 0000 cost= 0.185581103\n",
      "Training Step: 0050 cost= 0.131538585\n",
      "Training Step: 0100 cost= 0.185581207\n",
      "Training Step: 0150 cost= 0.131537542\n",
      "Training Step: 0200 cost= 0.185581341\n",
      "Training Step: 0250 cost= 0.131536424\n",
      "Training Step: 0300 cost= 0.185581446\n",
      "Training Step: 0350 cost= 0.131535366\n",
      "Training Step: 0400 cost= 0.185581565\n",
      "Training Step: 0450 cost= 0.131534293\n",
      "Training Step: 0500 cost= 0.185581684\n",
      "Training Step: 0550 cost= 0.131533265\n",
      "Training Step: 0600 cost= 0.185581774\n",
      "Training Step: 0650 cost= 0.131532177\n",
      "Training Step: 0700 cost= 0.185581893\n",
      "Training Step: 0750 cost= 0.131531075\n",
      "Training Step: 0800 cost= 0.185582012\n",
      "Training Step: 0850 cost= 0.131529972\n",
      "Training Step: 0900 cost= 0.185582116\n",
      "Training Step: 0950 cost= 0.131528929\n",
      "Training Step: 1000 cost= 0.185582235\n",
      "Training Step: 1050 cost= 0.131527811\n",
      "Training Step: 1100 cost= 0.185582355\n",
      "Training Step: 1150 cost= 0.131526783\n",
      "Training Step: 1200 cost= 0.185582474\n",
      "Training Step: 1250 cost= 0.131525710\n",
      "Training Step: 1300 cost= 0.185582563\n",
      "Training Step: 1350 cost= 0.131524593\n",
      "Training Step: 1400 cost= 0.185582668\n",
      "Training Step: 1450 cost= 0.131523535\n",
      "Training Step: 1500 cost= 0.185582802\n",
      "Training Step: 1550 cost= 0.131522447\n",
      "Training Step: 1600 cost= 0.185582906\n",
      "Training Step: 1650 cost= 0.131521344\n",
      "Training Step: 1700 cost= 0.185583025\n",
      "Training Step: 1750 cost= 0.131520271\n",
      "Training Step: 1800 cost= 0.185583144\n",
      "Training Step: 1850 cost= 0.131519198\n",
      "Training Step: 1900 cost= 0.185583234\n",
      "Training Step: 1950 cost= 0.131518155\n",
      "Training Cost= 0.131518 \n",
      "\n",
      "W= [[-0.00030325  0.00030325]\n",
      " [ 0.00040966 -0.00040966]] \n",
      "\n",
      "b= [ 0.0004031 -0.0004031]\n"
     ]
    }
   ],
   "source": [
    "#training in loops\n",
    "for i in range(training_epochs):\n",
    "    session.run(optimizer, feed_dict={x:inputX, y2:inputY})\n",
    "    #writing out logs of training\n",
    "    if(i) % display_step == 0:\n",
    "        cc = session.run(cost,feed_dict={x:inputX, y2 : inputY})\n",
    "        print \"Training Step:\",'%04d'%(i), \"cost=\",\"{:.9f}\".format(cc)\n",
    "#training_cost = session.run(cost, feed_dict={x:inputX, y2:inputY})\n",
    "print \"Training Cost=\" ,cc,'\\n'\n",
    "print \"W=\",session.run(w),'\\n'\n",
    "print \"b=\",session.run(b)                                                                  "
   ]
  },
  {
   "cell_type": "code",
   "execution_count": 35,
   "metadata": {
    "collapsed": false
   },
   "outputs": [
    {
     "data": {
      "text/plain": [
       "array([[ 0.21877393,  0.78122598],\n",
       "       [ 0.27544969,  0.72455031],\n",
       "       [ 0.18963996,  0.81036001],\n",
       "       [ 0.29809868,  0.70190132],\n",
       "       [ 0.13998245,  0.8600176 ],\n",
       "       [ 0.23150511,  0.76849484],\n",
       "       [ 0.28351003,  0.71648997],\n",
       "       [ 0.29687563,  0.7031244 ],\n",
       "       [ 0.3028602 ,  0.6971398 ],\n",
       "       [ 0.28846386,  0.71153617]], dtype=float32)"
      ]
     },
     "execution_count": 35,
     "metadata": {},
     "output_type": "execute_result"
    }
   ],
   "source": [
    "session.run(y,feed_dict = {x:inputX})"
   ]
  },
  {
   "cell_type": "code",
   "execution_count": null,
   "metadata": {
    "collapsed": true
   },
   "outputs": [],
   "source": [
    "#model can be improved by adding more hidden layers"
   ]
  }
 ],
 "metadata": {
  "anaconda-cloud": {},
  "kernelspec": {
   "display_name": "Python [conda root]",
   "language": "python",
   "name": "conda-root-py"
  },
  "language_info": {
   "codemirror_mode": {
    "name": "ipython",
    "version": 2
   },
   "file_extension": ".py",
   "mimetype": "text/x-python",
   "name": "python",
   "nbconvert_exporter": "python",
   "pygments_lexer": "ipython2",
   "version": "2.7.12"
  }
 },
 "nbformat": 4,
 "nbformat_minor": 1
}
