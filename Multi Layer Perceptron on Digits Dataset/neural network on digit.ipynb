{
 "cells": [
  {
   "cell_type": "code",
   "execution_count": 2,
   "metadata": {
    "collapsed": true
   },
   "outputs": [],
   "source": [
    " from sklearn.neural_network import MLPClassifier"
   ]
  },
  {
   "cell_type": "code",
   "execution_count": 3,
   "metadata": {
    "collapsed": true
   },
   "outputs": [],
   "source": [
    "import pandas as pd\n",
    "import numpy as np"
   ]
  },
  {
   "cell_type": "code",
   "execution_count": 4,
   "metadata": {
    "collapsed": false
   },
   "outputs": [],
   "source": [
    "X = pd.read_csv('C:/Users/bhavyapopli/Desktop/digitstrain.csv')"
   ]
  },
  {
   "cell_type": "code",
   "execution_count": 5,
   "metadata": {
    "collapsed": true
   },
   "outputs": [],
   "source": [
    "y = X['label']"
   ]
  },
  {
   "cell_type": "code",
   "execution_count": 6,
   "metadata": {
    "collapsed": true
   },
   "outputs": [],
   "source": [
    "del X['label']"
   ]
  },
  {
   "cell_type": "code",
   "execution_count": 7,
   "metadata": {
    "collapsed": false
   },
   "outputs": [
    {
     "name": "stderr",
     "output_type": "stream",
     "text": [
      "C:\\Anaconda2\\lib\\site-packages\\sklearn\\cross_validation.py:44: DeprecationWarning: This module was deprecated in version 0.18 in favor of the model_selection module into which all the refactored classes and functions are moved. Also note that the interface of the new CV iterators are different from that of this module. This module will be removed in 0.20.\n",
      "  \"This module will be removed in 0.20.\", DeprecationWarning)\n",
      "C:\\Anaconda2\\lib\\site-packages\\sklearn\\grid_search.py:43: DeprecationWarning: This module was deprecated in version 0.18 in favor of the model_selection module into which all the refactored classes and functions are moved. This module will be removed in 0.20.\n",
      "  DeprecationWarning)\n"
     ]
    }
   ],
   "source": [
    "from sklearn.grid_search import GridSearchCV\n",
    "from sklearn.cross_validation import train_test_split"
   ]
  },
  {
   "cell_type": "code",
   "execution_count": 8,
   "metadata": {
    "collapsed": true
   },
   "outputs": [],
   "source": [
    "X_train, X_test, y_train, y_test = train_test_split(X,y,test_size=0.25,random_state=35)"
   ]
  },
  {
   "cell_type": "code",
   "execution_count": 10,
   "metadata": {
    "collapsed": true
   },
   "outputs": [],
   "source": [
    "mlp = MLPClassifier(hidden_layer_sizes=(200,), max_iter=9, alpha=1e-4,\n",
    "                    solver='adam', verbose=10, tol=1e-4, random_state=1,\n",
    "                    learning_rate_init=.1)"
   ]
  },
  {
   "cell_type": "code",
   "execution_count": null,
   "metadata": {
    "collapsed": true
   },
   "outputs": [],
   "source": []
  },
  {
   "cell_type": "code",
   "execution_count": 11,
   "metadata": {
    "collapsed": true
   },
   "outputs": [],
   "source": [
    "parameters = {'solver':['adam', 'sgd', 'lbgfs'],'activation' : ['logistic', 'tanh', 'relu'], 'hidden_layer_sizes' :[(200,),(100,),(300,)]}"
   ]
  },
  {
   "cell_type": "code",
   "execution_count": 12,
   "metadata": {
    "collapsed": true
   },
   "outputs": [],
   "source": [
    "model = GridSearchCV(mlp, parameters ,n_jobs=-1,cv=4,scoring='accuracy')"
   ]
  },
  {
   "cell_type": "code",
   "execution_count": 13,
   "metadata": {
    "collapsed": false,
    "scrolled": true
   },
   "outputs": [
    {
     "data": {
      "text/plain": [
       "([mean: 0.56587, std: 0.01110, params: {'activation': 'logistic', 'solver': 'adam', 'hidden_layer_sizes': (200,)},\n",
       "  mean: 0.65975, std: 0.05909, params: {'activation': 'logistic', 'solver': 'sgd', 'hidden_layer_sizes': (200,)},\n",
       "  mean: 0.87733, std: 0.00129, params: {'activation': 'logistic', 'solver': 'lbgfs', 'hidden_layer_sizes': (200,)},\n",
       "  mean: 0.51984, std: 0.02241, params: {'activation': 'logistic', 'solver': 'adam', 'hidden_layer_sizes': (100,)},\n",
       "  mean: 0.66276, std: 0.02788, params: {'activation': 'logistic', 'solver': 'sgd', 'hidden_layer_sizes': (100,)},\n",
       "  mean: 0.86673, std: 0.00103, params: {'activation': 'logistic', 'solver': 'lbgfs', 'hidden_layer_sizes': (100,)},\n",
       "  mean: 0.63625, std: 0.05156, params: {'activation': 'logistic', 'solver': 'adam', 'hidden_layer_sizes': (300,)},\n",
       "  mean: 0.70121, std: 0.04031, params: {'activation': 'logistic', 'solver': 'sgd', 'hidden_layer_sizes': (300,)},\n",
       "  mean: 0.87359, std: 0.00297, params: {'activation': 'logistic', 'solver': 'lbgfs', 'hidden_layer_sizes': (300,)},\n",
       "  mean: 0.49451, std: 0.04899, params: {'activation': 'tanh', 'solver': 'adam', 'hidden_layer_sizes': (200,)},\n",
       "  mean: 0.20375, std: 0.03634, params: {'activation': 'tanh', 'solver': 'sgd', 'hidden_layer_sizes': (200,)},\n",
       "  mean: 0.86829, std: 0.00208, params: {'activation': 'tanh', 'solver': 'lbgfs', 'hidden_layer_sizes': (200,)},\n",
       "  mean: 0.47635, std: 0.04177, params: {'activation': 'tanh', 'solver': 'adam', 'hidden_layer_sizes': (100,)},\n",
       "  mean: 0.31117, std: 0.05857, params: {'activation': 'tanh', 'solver': 'sgd', 'hidden_layer_sizes': (100,)},\n",
       "  mean: 0.84800, std: 0.00407, params: {'activation': 'tanh', 'solver': 'lbgfs', 'hidden_layer_sizes': (100,)},\n",
       "  mean: 0.55203, std: 0.07159, params: {'activation': 'tanh', 'solver': 'adam', 'hidden_layer_sizes': (300,)},\n",
       "  mean: 0.14562, std: 0.03384, params: {'activation': 'tanh', 'solver': 'sgd', 'hidden_layer_sizes': (300,)},\n",
       "  mean: 0.87797, std: 0.00281, params: {'activation': 'tanh', 'solver': 'lbgfs', 'hidden_layer_sizes': (300,)},\n",
       "  mean: 0.14248, std: 0.02657, params: {'activation': 'relu', 'solver': 'adam', 'hidden_layer_sizes': (200,)},\n",
       "  mean: 0.11140, std: 0.00035, params: {'activation': 'relu', 'solver': 'sgd', 'hidden_layer_sizes': (200,)},\n",
       "  mean: 0.53111, std: 0.00397, params: {'activation': 'relu', 'solver': 'lbgfs', 'hidden_layer_sizes': (200,)},\n",
       "  mean: 0.13838, std: 0.02007, params: {'activation': 'relu', 'solver': 'adam', 'hidden_layer_sizes': (100,)},\n",
       "  mean: 0.11162, std: 0.00070, params: {'activation': 'relu', 'solver': 'sgd', 'hidden_layer_sizes': (100,)},\n",
       "  mean: 0.53502, std: 0.02871, params: {'activation': 'relu', 'solver': 'lbgfs', 'hidden_layer_sizes': (100,)},\n",
       "  mean: 0.12946, std: 0.02724, params: {'activation': 'relu', 'solver': 'adam', 'hidden_layer_sizes': (300,)},\n",
       "  mean: 0.10832, std: 0.00342, params: {'activation': 'relu', 'solver': 'sgd', 'hidden_layer_sizes': (300,)},\n",
       "  mean: 0.47606, std: 0.00249, params: {'activation': 'relu', 'solver': 'lbgfs', 'hidden_layer_sizes': (300,)}],\n",
       " {'activation': 'tanh', 'hidden_layer_sizes': (300,), 'solver': 'lbgfs'},\n",
       " 0.877968253968254)"
      ]
     },
     "execution_count": 13,
     "metadata": {},
     "output_type": "execute_result"
    }
   ],
   "source": [
    "model.fit(X_train,y_train)\n",
    "model.grid_scores_, model.best_params_, model.best_score_"
   ]
  },
  {
   "cell_type": "code",
   "execution_count": 9,
   "metadata": {
    "collapsed": false
   },
   "outputs": [],
   "source": [
    "mlp2 = MLPClassifier(hidden_layer_sizes=(300,),alpha=1e-4,\n",
    "                    solver='lbgfs', random_state=1,\n",
    "                    activation='tanh')"
   ]
  },
  {
   "cell_type": "code",
   "execution_count": 10,
   "metadata": {
    "collapsed": false
   },
   "outputs": [],
   "source": [
    "params = {'max_iter' :[6,9,12,10], 'learning_rate_init' : [0.1,0.01,0.001,0.0001]}"
   ]
  },
  {
   "cell_type": "code",
   "execution_count": 11,
   "metadata": {
    "collapsed": true
   },
   "outputs": [],
   "source": [
    "model2 = GridSearchCV(mlp2, params ,n_jobs=-1,cv=4,scoring='accuracy')"
   ]
  },
  {
   "cell_type": "code",
   "execution_count": 13,
   "metadata": {
    "collapsed": false
   },
   "outputs": [
    {
     "name": "stderr",
     "output_type": "stream",
     "text": [
      "C:\\Anaconda2\\lib\\site-packages\\sklearn\\externals\\joblib\\pool.py:438: UserWarning: Failed to clean temporary folder: c:\\users\\bhavya~1\\appdata\\local\\temp\\2\\joblib_memmaping_pool_3920_120368208\n",
      "  warnings.warn(\"Failed to clean temporary folder: %s\" % folder_path)\n"
     ]
    },
    {
     "data": {
      "text/plain": [
       "[mean: 0.82940, std: 0.00155, params: {'max_iter': 6, 'learning_rate_init': 0.1},\n",
       " mean: 0.87797, std: 0.00281, params: {'max_iter': 9, 'learning_rate_init': 0.1},\n",
       " mean: 0.89194, std: 0.00143, params: {'max_iter': 12, 'learning_rate_init': 0.1},\n",
       " mean: 0.88425, std: 0.00268, params: {'max_iter': 10, 'learning_rate_init': 0.1},\n",
       " mean: 0.82940, std: 0.00155, params: {'max_iter': 6, 'learning_rate_init': 0.01},\n",
       " mean: 0.87797, std: 0.00281, params: {'max_iter': 9, 'learning_rate_init': 0.01},\n",
       " mean: 0.89194, std: 0.00143, params: {'max_iter': 12, 'learning_rate_init': 0.01},\n",
       " mean: 0.88425, std: 0.00268, params: {'max_iter': 10, 'learning_rate_init': 0.01},\n",
       " mean: 0.82940, std: 0.00155, params: {'max_iter': 6, 'learning_rate_init': 0.001},\n",
       " mean: 0.87797, std: 0.00281, params: {'max_iter': 9, 'learning_rate_init': 0.001},\n",
       " mean: 0.89194, std: 0.00143, params: {'max_iter': 12, 'learning_rate_init': 0.001},\n",
       " mean: 0.88425, std: 0.00268, params: {'max_iter': 10, 'learning_rate_init': 0.001},\n",
       " mean: 0.82940, std: 0.00155, params: {'max_iter': 6, 'learning_rate_init': 0.0001},\n",
       " mean: 0.87797, std: 0.00281, params: {'max_iter': 9, 'learning_rate_init': 0.0001},\n",
       " mean: 0.89194, std: 0.00143, params: {'max_iter': 12, 'learning_rate_init': 0.0001},\n",
       " mean: 0.88425, std: 0.00268, params: {'max_iter': 10, 'learning_rate_init': 0.0001}]"
      ]
     },
     "execution_count": 13,
     "metadata": {},
     "output_type": "execute_result"
    }
   ],
   "source": [
    "model2.fit(X_train,y_train)\n",
    "model2.grid_scores_"
   ]
  },
  {
   "cell_type": "code",
   "execution_count": 14,
   "metadata": {
    "collapsed": false
   },
   "outputs": [
    {
     "data": {
      "text/plain": [
       "{'learning_rate_init': 0.1, 'max_iter': 12}"
      ]
     },
     "execution_count": 14,
     "metadata": {},
     "output_type": "execute_result"
    }
   ],
   "source": [
    "model2.best_params_"
   ]
  },
  {
   "cell_type": "code",
   "execution_count": 15,
   "metadata": {
    "collapsed": true
   },
   "outputs": [],
   "source": [
    "mlp3 = MLPClassifier(hidden_layer_sizes=(300,),alpha=1e-4,\n",
    "                    solver='lbgfs', random_state=1,\n",
    "                    activation='tanh',learning_rate_init=0.1,max_iter=12)"
   ]
  },
  {
   "cell_type": "code",
   "execution_count": 16,
   "metadata": {
    "collapsed": false
   },
   "outputs": [
    {
     "data": {
      "text/plain": [
       "MLPClassifier(activation='tanh', alpha=0.0001, batch_size='auto', beta_1=0.9,\n",
       "       beta_2=0.999, early_stopping=False, epsilon=1e-08,\n",
       "       hidden_layer_sizes=(300,), learning_rate='constant',\n",
       "       learning_rate_init=0.1, max_iter=12, momentum=0.9,\n",
       "       nesterovs_momentum=True, power_t=0.5, random_state=1, shuffle=True,\n",
       "       solver='lbgfs', tol=0.0001, validation_fraction=0.1, verbose=False,\n",
       "       warm_start=False)"
      ]
     },
     "execution_count": 16,
     "metadata": {},
     "output_type": "execute_result"
    }
   ],
   "source": [
    "mlp3.fit(X,y)"
   ]
  },
  {
   "cell_type": "code",
   "execution_count": 17,
   "metadata": {
    "collapsed": true
   },
   "outputs": [],
   "source": [
    "pred = mlp3.predict(test)"
   ]
  },
  {
   "cell_type": "code",
   "execution_count": 12,
   "metadata": {
    "collapsed": true
   },
   "outputs": [],
   "source": [
    "test = pd.read_csv('C:/Users/bhavyapopli/Desktop/digitstest.csv')\n"
   ]
  },
  {
   "cell_type": "code",
   "execution_count": 18,
   "metadata": {
    "collapsed": true
   },
   "outputs": [],
   "source": [
    "np.savetxt('submission.csv', np.c_[range(1,len(test)+1),pred], delimiter=',', header = 'ImageId,Label', comments = '', fmt='%d')"
   ]
  },
  {
   "cell_type": "code",
   "execution_count": 19,
   "metadata": {
    "collapsed": false
   },
   "outputs": [
    {
     "data": {
      "text/plain": [
       "'C:\\\\Users\\\\bhavyapopli\\\\Documents\\\\submission.csv'"
      ]
     },
     "execution_count": 19,
     "metadata": {},
     "output_type": "execute_result"
    }
   ],
   "source": [
    "import os\n",
    "os.path.abspath('submission.csv')"
   ]
  },
  {
   "cell_type": "code",
   "execution_count": 20,
   "metadata": {
    "collapsed": true
   },
   "outputs": [],
   "source": [
    "import xgboost as xgb\n"
   ]
  },
  {
   "cell_type": "code",
   "execution_count": 22,
   "metadata": {
    "collapsed": false
   },
   "outputs": [],
   "source": [
    "clf = xgb.XGBClassifier(objective='multi:softmax',nthread=-1,max_depth=1,n_estimators=450,subsample=0.5,learning_rate=0.5,base_score=1.0,colsample_bytree=1.0,min_child_weight=1,max_delta_step=0)"
   ]
  },
  {
   "cell_type": "code",
   "execution_count": 24,
   "metadata": {
    "collapsed": false
   },
   "outputs": [
    {
     "data": {
      "text/plain": [
       "XGBClassifier(base_score=1.0, colsample_bylevel=1, colsample_bytree=1.0,\n",
       "       gamma=0, learning_rate=0.5, max_delta_step=0, max_depth=1,\n",
       "       min_child_weight=1, missing=None, n_estimators=450, nthread=-1,\n",
       "       objective='multi:softprob', reg_alpha=0, reg_lambda=1,\n",
       "       scale_pos_weight=1, seed=0, silent=True, subsample=0.5)"
      ]
     },
     "execution_count": 24,
     "metadata": {},
     "output_type": "execute_result"
    }
   ],
   "source": [
    "clf.fit(X,y)"
   ]
  },
  {
   "cell_type": "code",
   "execution_count": 25,
   "metadata": {
    "collapsed": true
   },
   "outputs": [],
   "source": [
    "xgpredict = clf.predict(test)"
   ]
  },
  {
   "cell_type": "code",
   "execution_count": 26,
   "metadata": {
    "collapsed": true
   },
   "outputs": [],
   "source": [
    "np.savetxt('submission2.csv', np.c_[range(1,len(test)+1),xgpredict], delimiter=',', header = 'ImageId,Label', comments = '', fmt='%d')"
   ]
  },
  {
   "cell_type": "code",
   "execution_count": 32,
   "metadata": {
    "collapsed": false
   },
   "outputs": [],
   "source": [
    "mlp4 = MLPClassifier(hidden_layer_sizes=(300,),alpha=0.001,\n",
    "                    solver='lbgfs', random_state=1,\n",
    "                    activation='tanh',learning_rate_init=0.1,max_iter=300,learning_rate='invscaling')"
   ]
  },
  {
   "cell_type": "code",
   "execution_count": 28,
   "metadata": {
    "collapsed": true
   },
   "outputs": [],
   "source": [
    "params = {'learning_rate' :['invscaling','adaptive'], 'learning_rate_init' : [0.1,0.5],'alpha' : [1e-4,1e-3,1e-2], 'max_iter' : [100,200]}\n",
    "#training the classifiers with more number of iterations"
   ]
  },
  {
   "cell_type": "code",
   "execution_count": 29,
   "metadata": {
    "collapsed": true
   },
   "outputs": [],
   "source": [
    "model2 = GridSearchCV(mlp4, params ,n_jobs=-1,cv=4,scoring='accuracy')"
   ]
  },
  {
   "cell_type": "code",
   "execution_count": 30,
   "metadata": {
    "collapsed": false,
    "scrolled": true
   },
   "outputs": [
    {
     "name": "stderr",
     "output_type": "stream",
     "text": [
      "C:\\Anaconda2\\lib\\site-packages\\sklearn\\externals\\joblib\\pool.py:438: UserWarning: Failed to clean temporary folder: c:\\users\\bhavya~1\\appdata\\local\\temp\\2\\joblib_memmaping_pool_3920_57831096\n",
      "  warnings.warn(\"Failed to clean temporary folder: %s\" % folder_path)\n"
     ]
    },
    {
     "data": {
      "text/plain": [
       "([mean: 0.95048, std: 0.00281, params: {'alpha': 0.0001, 'learning_rate': 'invscaling', 'max_iter': 100, 'learning_rate_init': 0.1},\n",
       "  mean: 0.95590, std: 0.00198, params: {'alpha': 0.0001, 'learning_rate': 'invscaling', 'max_iter': 200, 'learning_rate_init': 0.1},\n",
       "  mean: 0.95048, std: 0.00281, params: {'alpha': 0.0001, 'learning_rate': 'invscaling', 'max_iter': 100, 'learning_rate_init': 0.5},\n",
       "  mean: 0.95590, std: 0.00198, params: {'alpha': 0.0001, 'learning_rate': 'invscaling', 'max_iter': 200, 'learning_rate_init': 0.5},\n",
       "  mean: 0.95048, std: 0.00281, params: {'alpha': 0.0001, 'learning_rate': 'adaptive', 'max_iter': 100, 'learning_rate_init': 0.1},\n",
       "  mean: 0.95590, std: 0.00198, params: {'alpha': 0.0001, 'learning_rate': 'adaptive', 'max_iter': 200, 'learning_rate_init': 0.1},\n",
       "  mean: 0.95048, std: 0.00281, params: {'alpha': 0.0001, 'learning_rate': 'adaptive', 'max_iter': 100, 'learning_rate_init': 0.5},\n",
       "  mean: 0.95590, std: 0.00198, params: {'alpha': 0.0001, 'learning_rate': 'adaptive', 'max_iter': 200, 'learning_rate_init': 0.5},\n",
       "  mean: 0.94927, std: 0.00217, params: {'alpha': 0.001, 'learning_rate': 'invscaling', 'max_iter': 100, 'learning_rate_init': 0.1},\n",
       "  mean: 0.95644, std: 0.00273, params: {'alpha': 0.001, 'learning_rate': 'invscaling', 'max_iter': 200, 'learning_rate_init': 0.1},\n",
       "  mean: 0.94927, std: 0.00217, params: {'alpha': 0.001, 'learning_rate': 'invscaling', 'max_iter': 100, 'learning_rate_init': 0.5},\n",
       "  mean: 0.95644, std: 0.00273, params: {'alpha': 0.001, 'learning_rate': 'invscaling', 'max_iter': 200, 'learning_rate_init': 0.5},\n",
       "  mean: 0.94927, std: 0.00217, params: {'alpha': 0.001, 'learning_rate': 'adaptive', 'max_iter': 100, 'learning_rate_init': 0.1},\n",
       "  mean: 0.95644, std: 0.00273, params: {'alpha': 0.001, 'learning_rate': 'adaptive', 'max_iter': 200, 'learning_rate_init': 0.1},\n",
       "  mean: 0.94927, std: 0.00217, params: {'alpha': 0.001, 'learning_rate': 'adaptive', 'max_iter': 100, 'learning_rate_init': 0.5},\n",
       "  mean: 0.95644, std: 0.00273, params: {'alpha': 0.001, 'learning_rate': 'adaptive', 'max_iter': 200, 'learning_rate_init': 0.5},\n",
       "  mean: 0.94987, std: 0.00342, params: {'alpha': 0.01, 'learning_rate': 'invscaling', 'max_iter': 100, 'learning_rate_init': 0.1},\n",
       "  mean: 0.95495, std: 0.00152, params: {'alpha': 0.01, 'learning_rate': 'invscaling', 'max_iter': 200, 'learning_rate_init': 0.1},\n",
       "  mean: 0.94987, std: 0.00342, params: {'alpha': 0.01, 'learning_rate': 'invscaling', 'max_iter': 100, 'learning_rate_init': 0.5},\n",
       "  mean: 0.95495, std: 0.00152, params: {'alpha': 0.01, 'learning_rate': 'invscaling', 'max_iter': 200, 'learning_rate_init': 0.5},\n",
       "  mean: 0.94987, std: 0.00342, params: {'alpha': 0.01, 'learning_rate': 'adaptive', 'max_iter': 100, 'learning_rate_init': 0.1},\n",
       "  mean: 0.95495, std: 0.00152, params: {'alpha': 0.01, 'learning_rate': 'adaptive', 'max_iter': 200, 'learning_rate_init': 0.1},\n",
       "  mean: 0.94987, std: 0.00342, params: {'alpha': 0.01, 'learning_rate': 'adaptive', 'max_iter': 100, 'learning_rate_init': 0.5},\n",
       "  mean: 0.95495, std: 0.00152, params: {'alpha': 0.01, 'learning_rate': 'adaptive', 'max_iter': 200, 'learning_rate_init': 0.5}],\n",
       " {'alpha': 0.001,\n",
       "  'learning_rate': 'invscaling',\n",
       "  'learning_rate_init': 0.1,\n",
       "  'max_iter': 200},\n",
       " 0.9564444444444444)"
      ]
     },
     "execution_count": 30,
     "metadata": {},
     "output_type": "execute_result"
    }
   ],
   "source": [
    "model2.fit(X_train,y_train)\n",
    "model2.grid_scores_, model2.best_params_, model2.best_score_"
   ]
  }
 ],
 "metadata": {
  "anaconda-cloud": {},
  "kernelspec": {
   "display_name": "Python [Root]",
   "language": "python",
   "name": "Python [Root]"
  },
  "language_info": {
   "codemirror_mode": {
    "name": "ipython",
    "version": 2
   },
   "file_extension": ".py",
   "mimetype": "text/x-python",
   "name": "python",
   "nbconvert_exporter": "python",
   "pygments_lexer": "ipython2",
   "version": "2.7.12"
  }
 },
 "nbformat": 4,
 "nbformat_minor": 0
}
