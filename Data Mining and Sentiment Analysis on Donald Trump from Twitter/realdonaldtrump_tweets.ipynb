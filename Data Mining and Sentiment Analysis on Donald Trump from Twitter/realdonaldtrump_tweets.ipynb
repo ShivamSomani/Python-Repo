{
 "cells": [
  {
   "cell_type": "code",
   "execution_count": 1,
   "metadata": {
    "collapsed": true
   },
   "outputs": [],
   "source": [
    "import csv\n",
    "import tweepy\n",
    "import numpy as np\n",
    "from textblob import TextBlob"
   ]
  },
  {
   "cell_type": "code",
   "execution_count": 2,
   "metadata": {
    "collapsed": true
   },
   "outputs": [],
   "source": [
    "# credentials\n",
    "consumer_key = 'enter the consumer key'\n",
    "consumer_secret = 'enter the consumer secret'\n",
    "\n",
    "access_token = 'enter the access token'\n",
    "access_token_secret = 'enter the access token secret'\n"
   ]
  },
  {
   "cell_type": "code",
   "execution_count": 21,
   "metadata": {
    "collapsed": false
   },
   "outputs": [],
   "source": [
    "auth = tweepy.OAuthHandler(consumer_key, consumer_secret)\n",
    "auth.set_access_token(access_token, access_token_secret)\n",
    "api = tweepy.API(auth)"
   ]
  },
  {
   "cell_type": "code",
   "execution_count": 22,
   "metadata": {
    "collapsed": false
   },
   "outputs": [
    {
     "name": "stdout",
     "output_type": "stream",
     "text": [
      "Downloading max 40000 tweets\n"
     ]
    }
   ],
   "source": [
    "maxTweets = 40000 # Some arbitrary large number\n",
    "tweetsPerQry = 200  # this is the max the API permits\n",
    "since_date = \"2016-01-01\"\n",
    "# If results from a specific ID onwards are reqd, set since_id to that ID.\n",
    "# else default to no lower limit, go as far back as API allows\n",
    "sinceId = None\n",
    "\n",
    "# If results only below a specific ID are, set max_id to that ID.\n",
    "# else default to no upper limit, start from the most recent tweet matching the search query.\n",
    "max_id = -1L\n",
    "tweetCount = 0\n",
    "print(\"Downloading max {0} tweets\".format(maxTweets))"
   ]
  },
  {
   "cell_type": "code",
   "execution_count": 23,
   "metadata": {
    "collapsed": false
   },
   "outputs": [
    {
     "name": "stdout",
     "output_type": "stream",
     "text": [
      "Downloaded 200 tweets\n",
      "Downloaded 400 tweets\n",
      "Downloaded 600 tweets\n",
      "Downloaded 800 tweets\n",
      "Downloaded 1000 tweets\n",
      "Downloaded 1200 tweets\n",
      "Downloaded 1400 tweets\n",
      "Downloaded 1600 tweets\n",
      "Downloaded 1800 tweets\n",
      "Downloaded 2000 tweets\n",
      "Downloaded 2200 tweets\n",
      "Downloaded 2400 tweets\n",
      "Downloaded 2600 tweets\n",
      "Downloaded 2800 tweets\n",
      "Downloaded 3000 tweets\n",
      "Downloaded 3200 tweets\n",
      "Downloaded 3247 tweets\n",
      "No more tweets found\n",
      "Downloaded 3247 tweets\n"
     ]
    }
   ],
   "source": [
    "with open('realdonaldtrump_tweets.csv', 'w') as csvfile:\n",
    "    fieldnames = ['Name', 'Twitter Handle', 'Total Tweets', 'Favourites_Count', 'Followers', 'User_Id','User_Verified','User Location',\n",
    "                 'Date of Tweet', 'Tweet Id', 'Tweet Text', 'Language', 'Tweet Source', 'Tweet Retweet', 'Tweet Reply To Id',\n",
    "                 'Reply To Name']\n",
    "    writer = csv.DictWriter(csvfile, fieldnames=fieldnames)\n",
    "    writer.writeheader()\n",
    "    while tweetCount < maxTweets:\n",
    "        try:\n",
    "            if (max_id <= 0):\n",
    "                if (not sinceId):\n",
    "                    new_tweets = api.user_timeline(screen_name='realdonaldtrump', count=tweetsPerQry)\n",
    "                else:\n",
    "                    new_tweets = api.user_timeline(screen_name='realdonaldtrump', count=tweetsPerQry,\n",
    "                                            since_id=sinceId)\n",
    "            else:\n",
    "                if (not sinceId):\n",
    "                    new_tweets = api.user_timeline(screen_name='realdonaldtrump', count=tweetsPerQry,\n",
    "                                            max_id=str(max_id - 1))\n",
    "                else:\n",
    "                    new_tweets = api.user_timeline(screen_name='realdonaldtrump', count=tweetsPerQry,\n",
    "                                            max_id=str(max_id - 1),\n",
    "                                            since_id=sinceId)\n",
    "            if not new_tweets:\n",
    "                print(\"No more tweets found\")\n",
    "                break\n",
    "            for tweet in new_tweets:\n",
    "                row = {}\n",
    "                row['Name'] = unicode(tweet.user.name).encode(\"utf8\")\n",
    "                row['Twitter Handle'] = unicode(tweet.user.screen_name).encode(\"utf8\")\n",
    "                row['Total Tweets'] = unicode(tweet.user.statuses_count).encode(\"utf8\")\n",
    "                row['Favourites_Count'] = unicode(tweet.user.favourites_count).encode(\"utf8\")\n",
    "                row['Followers'] = unicode(tweet.user.followers_count).encode(\"utf8\")\n",
    "                row['User_Id'] = unicode(tweet.user.id).encode(\"utf8\")\n",
    "                row['User_Verified'] = unicode(tweet.user.verified).encode(\"utf8\")\n",
    "                row['User Location'] = unicode(tweet.user.location).encode(\"utf8\")\n",
    "                row['Date of Tweet'] = unicode(tweet.user.created_at).encode(\"utf8\")\n",
    "                row['Tweet Id'] = unicode(tweet.id).encode(\"utf8\")\n",
    "                row['Tweet Text'] = unicode(tweet.text).encode(\"utf8\")\n",
    "                row['Language'] = unicode(tweet.lang).encode(\"utf8\")\n",
    "                row['Tweet Source'] = unicode(tweet.source).encode(\"utf8\")\n",
    "                row['Tweet Retweet'] = unicode(tweet.retweet_count).encode(\"utf8\")\n",
    "                row['Tweet Reply To Id'] = unicode(tweet.in_reply_to_user_id).encode(\"utf8\")\n",
    "                row['Reply To Name'] = unicode(tweet.in_reply_to_screen_name).encode(\"utf8\")\n",
    "                writer.writerow(row)\n",
    "            tweetCount += len(new_tweets)\n",
    "            print(\"Downloaded {0} tweets\".format(tweetCount))\n",
    "            max_id = new_tweets[-1].id\n",
    "        except tweepy.TweepError as e:\n",
    "            # Just exit if any error\n",
    "            print(\"some error : \" + str(e))\n",
    "            break\n",
    "\n",
    "print (\"Downloaded {0} tweets\".format(tweetCount))"
   ]
  }
 ],
 "metadata": {
  "anaconda-cloud": {},
  "kernelspec": {
   "display_name": "Python [conda root]",
   "language": "python",
   "name": "conda-root-py"
  },
  "language_info": {
   "codemirror_mode": {
    "name": "ipython",
    "version": 2
   },
   "file_extension": ".py",
   "mimetype": "text/x-python",
   "name": "python",
   "nbconvert_exporter": "python",
   "pygments_lexer": "ipython2",
   "version": "2.7.12"
  }
 },
 "nbformat": 4,
 "nbformat_minor": 1
}
